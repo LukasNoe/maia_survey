{
 "cells": [
  {
   "cell_type": "markdown",
   "metadata": {},
   "source": [
    "# **MAIA Survey Data Analysis**\n",
    "\n"
   ]
  },
  {
   "cell_type": "code",
   "execution_count": 111,
   "metadata": {},
   "outputs": [],
   "source": [
    "import numpy as np\n",
    "import pandas as pd\n",
    "import seaborn as sns\n",
    "import matplotlib.pyplot as plt"
   ]
  },
  {
   "cell_type": "code",
   "execution_count": 112,
   "metadata": {},
   "outputs": [
    {
     "name": "stdout",
     "output_type": "stream",
     "text": [
      "\n",
      "DataFrame Shape : (266, 69)\n",
      "\n",
      "Number of rows : 266\n",
      "\n",
      "Number of columns : 69\n"
     ]
    },
    {
     "data": {
      "text/html": [
       "<div>\n",
       "<style scoped>\n",
       "    .dataframe tbody tr th:only-of-type {\n",
       "        vertical-align: middle;\n",
       "    }\n",
       "\n",
       "    .dataframe tbody tr th {\n",
       "        vertical-align: top;\n",
       "    }\n",
       "\n",
       "    .dataframe thead th {\n",
       "        text-align: right;\n",
       "    }\n",
       "</style>\n",
       "<table border=\"1\" class=\"dataframe\">\n",
       "  <thead>\n",
       "    <tr style=\"text-align: right;\">\n",
       "      <th></th>\n",
       "      <th>Progress</th>\n",
       "      <th>ResponseId</th>\n",
       "      <th>Q1</th>\n",
       "      <th>Q2</th>\n",
       "      <th>Q3</th>\n",
       "      <th>Q4</th>\n",
       "      <th>Q4_6_TEXT</th>\n",
       "      <th>Q5</th>\n",
       "      <th>Q6</th>\n",
       "      <th>Q7</th>\n",
       "      <th>...</th>\n",
       "      <th>Q29</th>\n",
       "      <th>Q29_6_TEXT</th>\n",
       "      <th>Q30</th>\n",
       "      <th>Q31</th>\n",
       "      <th>Q32</th>\n",
       "      <th>Q33</th>\n",
       "      <th>Q34</th>\n",
       "      <th>Q35</th>\n",
       "      <th>Q36</th>\n",
       "      <th>Q36_7_TEXT</th>\n",
       "    </tr>\n",
       "  </thead>\n",
       "  <tbody>\n",
       "    <tr>\n",
       "      <th>0</th>\n",
       "      <td>100</td>\n",
       "      <td>R_3gZ7aApg5ysFqf8</td>\n",
       "      <td>Yes</td>\n",
       "      <td>Yes</td>\n",
       "      <td>Yes, I am currently using it</td>\n",
       "      <td>NaN</td>\n",
       "      <td>NaN</td>\n",
       "      <td>NaN</td>\n",
       "      <td>No</td>\n",
       "      <td>Other:</td>\n",
       "      <td>...</td>\n",
       "      <td>Leadership/strategic</td>\n",
       "      <td>NaN</td>\n",
       "      <td>5-10 years</td>\n",
       "      <td>Cambodia</td>\n",
       "      <td>Capital city</td>\n",
       "      <td>31-50</td>\n",
       "      <td>£100 000 - £1 000 000 (€117 000 - €1 171 000; ...</td>\n",
       "      <td>&lt; 20 000</td>\n",
       "      <td>Other (please define):</td>\n",
       "      <td>Monetary and Economic History</td>\n",
       "    </tr>\n",
       "    <tr>\n",
       "      <th>1</th>\n",
       "      <td>100</td>\n",
       "      <td>R_Us8dd0u8MtesCHf</td>\n",
       "      <td>Yes</td>\n",
       "      <td>Yes</td>\n",
       "      <td>No, I am not</td>\n",
       "      <td>Too expensive,Lack of staff,Lack of skills/tra...</td>\n",
       "      <td>NaN</td>\n",
       "      <td>Yes</td>\n",
       "      <td>I do not know</td>\n",
       "      <td>NaN</td>\n",
       "      <td>...</td>\n",
       "      <td>Leadership/strategic</td>\n",
       "      <td>NaN</td>\n",
       "      <td>&gt; 15 years</td>\n",
       "      <td>Croatia</td>\n",
       "      <td>Capital city</td>\n",
       "      <td>31-50</td>\n",
       "      <td>£1 000 000 - £5 000 000 (€1 171 000 - €5 852 0...</td>\n",
       "      <td>&lt; 20 000</td>\n",
       "      <td>Ethnography</td>\n",
       "      <td>NaN</td>\n",
       "    </tr>\n",
       "    <tr>\n",
       "      <th>2</th>\n",
       "      <td>100</td>\n",
       "      <td>R_12EIR7qN1jaSgpl</td>\n",
       "      <td>Yes</td>\n",
       "      <td>Yes</td>\n",
       "      <td>Yes, I am currently using it</td>\n",
       "      <td>NaN</td>\n",
       "      <td>NaN</td>\n",
       "      <td>NaN</td>\n",
       "      <td>I do not know</td>\n",
       "      <td>NaN</td>\n",
       "      <td>...</td>\n",
       "      <td>NaN</td>\n",
       "      <td>NaN</td>\n",
       "      <td>NaN</td>\n",
       "      <td>NaN</td>\n",
       "      <td>NaN</td>\n",
       "      <td>NaN</td>\n",
       "      <td>NaN</td>\n",
       "      <td>NaN</td>\n",
       "      <td>NaN</td>\n",
       "      <td>NaN</td>\n",
       "    </tr>\n",
       "    <tr>\n",
       "      <th>3</th>\n",
       "      <td>100</td>\n",
       "      <td>R_8zVbFGd4kxIMw7v</td>\n",
       "      <td>Yes</td>\n",
       "      <td>Yes</td>\n",
       "      <td>Yes, I am currently using it</td>\n",
       "      <td>NaN</td>\n",
       "      <td>NaN</td>\n",
       "      <td>NaN</td>\n",
       "      <td>Yes, internal,Yes, external</td>\n",
       "      <td>NaN</td>\n",
       "      <td>...</td>\n",
       "      <td>Curatorial</td>\n",
       "      <td>NaN</td>\n",
       "      <td>&gt; 15 years</td>\n",
       "      <td>United Kingdom of Great Britain and Northern I...</td>\n",
       "      <td>Capital city</td>\n",
       "      <td>&gt; 200</td>\n",
       "      <td>&gt; £5 000 000 (&gt; €5 852 000; &gt; $7 000 000)</td>\n",
       "      <td>I do not know</td>\n",
       "      <td>Universal (holding a significant amount of var...</td>\n",
       "      <td>NaN</td>\n",
       "    </tr>\n",
       "    <tr>\n",
       "      <th>4</th>\n",
       "      <td>100</td>\n",
       "      <td>R_3iy6fcVREMEHWMo</td>\n",
       "      <td>Yes</td>\n",
       "      <td>Yes</td>\n",
       "      <td>No, I am not</td>\n",
       "      <td>Too expensive</td>\n",
       "      <td>NaN</td>\n",
       "      <td>Yes</td>\n",
       "      <td>I do not know</td>\n",
       "      <td>NaN</td>\n",
       "      <td>...</td>\n",
       "      <td>Other (please describe):</td>\n",
       "      <td>Supervising and control of urban excavations t...</td>\n",
       "      <td>1-4 years</td>\n",
       "      <td>Turkey</td>\n",
       "      <td>Urban</td>\n",
       "      <td>31-50</td>\n",
       "      <td>I do not know</td>\n",
       "      <td>&lt; 1 000 000</td>\n",
       "      <td>Other (please define):</td>\n",
       "      <td>Archaeology</td>\n",
       "    </tr>\n",
       "  </tbody>\n",
       "</table>\n",
       "<p>5 rows × 69 columns</p>\n",
       "</div>"
      ],
      "text/plain": [
       "   Progress         ResponseId   Q1   Q2                            Q3  \\\n",
       "0       100  R_3gZ7aApg5ysFqf8  Yes  Yes  Yes, I am currently using it   \n",
       "1       100  R_Us8dd0u8MtesCHf  Yes  Yes                  No, I am not   \n",
       "2       100  R_12EIR7qN1jaSgpl  Yes  Yes  Yes, I am currently using it   \n",
       "3       100  R_8zVbFGd4kxIMw7v  Yes  Yes  Yes, I am currently using it   \n",
       "4       100  R_3iy6fcVREMEHWMo  Yes  Yes                  No, I am not   \n",
       "\n",
       "                                                  Q4 Q4_6_TEXT   Q5  \\\n",
       "0                                                NaN       NaN  NaN   \n",
       "1  Too expensive,Lack of staff,Lack of skills/tra...       NaN  Yes   \n",
       "2                                                NaN       NaN  NaN   \n",
       "3                                                NaN       NaN  NaN   \n",
       "4                                      Too expensive       NaN  Yes   \n",
       "\n",
       "                            Q6      Q7  ...                       Q29  \\\n",
       "0                           No  Other:  ...      Leadership/strategic   \n",
       "1                I do not know     NaN  ...      Leadership/strategic   \n",
       "2                I do not know     NaN  ...                       NaN   \n",
       "3  Yes, internal,Yes, external     NaN  ...                Curatorial   \n",
       "4                I do not know     NaN  ...  Other (please describe):   \n",
       "\n",
       "                                          Q29_6_TEXT         Q30  \\\n",
       "0                                                NaN  5-10 years   \n",
       "1                                                NaN  > 15 years   \n",
       "2                                                NaN         NaN   \n",
       "3                                                NaN  > 15 years   \n",
       "4  Supervising and control of urban excavations t...   1-4 years   \n",
       "\n",
       "                                                 Q31           Q32    Q33  \\\n",
       "0                                           Cambodia  Capital city  31-50   \n",
       "1                                            Croatia  Capital city  31-50   \n",
       "2                                                NaN           NaN    NaN   \n",
       "3  United Kingdom of Great Britain and Northern I...  Capital city  > 200   \n",
       "4                                             Turkey         Urban  31-50   \n",
       "\n",
       "                                                 Q34            Q35  \\\n",
       "0  £100 000 - £1 000 000 (€117 000 - €1 171 000; ...       < 20 000   \n",
       "1  £1 000 000 - £5 000 000 (€1 171 000 - €5 852 0...       < 20 000   \n",
       "2                                                NaN            NaN   \n",
       "3          > £5 000 000 (> €5 852 000; > $7 000 000)  I do not know   \n",
       "4                                      I do not know    < 1 000 000   \n",
       "\n",
       "                                                 Q36  \\\n",
       "0                             Other (please define):   \n",
       "1                                        Ethnography   \n",
       "2                                                NaN   \n",
       "3  Universal (holding a significant amount of var...   \n",
       "4                             Other (please define):   \n",
       "\n",
       "                      Q36_7_TEXT  \n",
       "0  Monetary and Economic History  \n",
       "1                            NaN  \n",
       "2                            NaN  \n",
       "3                            NaN  \n",
       "4                    Archaeology  \n",
       "\n",
       "[5 rows x 69 columns]"
      ]
     },
     "execution_count": 112,
     "metadata": {},
     "output_type": "execute_result"
    }
   ],
   "source": [
    "#Read the MAIA csv file\n",
    "df = pd.read_csv('maia_data_copy.csv')\n",
    "\n",
    "shape = df.shape\n",
    "print('\\nDataFrame Shape :', shape)\n",
    "print('\\nNumber of rows :', shape[0])\n",
    "print('\\nNumber of columns :', shape[1])\n",
    "\n",
    "#Print the first 5 rows of the df\n",
    "df.head()\n"
   ]
  },
  {
   "cell_type": "code",
   "execution_count": 113,
   "metadata": {},
   "outputs": [
    {
     "name": "stdout",
     "output_type": "stream",
     "text": [
      "266\n"
     ]
    }
   ],
   "source": [
    "#Calculate number of responses\n",
    "responses = (df.shape[0])\n",
    "print(responses)"
   ]
  },
  {
   "cell_type": "code",
   "execution_count": 114,
   "metadata": {},
   "outputs": [
    {
     "name": "stdout",
     "output_type": "stream",
     "text": [
      "141\n"
     ]
    }
   ],
   "source": [
    "#Print the number of complete responses\n",
    "print(sum(df['Progress'] == 100))\n"
   ]
  },
  {
   "cell_type": "markdown",
   "metadata": {},
   "source": [
    "### Q3: Are you using Artifical Intelligence (AI) applications for your work? "
   ]
  },
  {
   "cell_type": "code",
   "execution_count": 115,
   "metadata": {},
   "outputs": [
    {
     "data": {
      "text/plain": [
       "No, I am not                                189\n",
       "Yes, I am currently using it                 49\n",
       "I intend to use it in the next 12 months     17\n",
       "Used it in the past                          11\n",
       "Name: Q3, dtype: int64"
      ]
     },
     "execution_count": 115,
     "metadata": {},
     "output_type": "execute_result"
    }
   ],
   "source": [
    "#Count all answers and list them descending\n",
    "df['Q3'].value_counts(sort=True)"
   ]
  },
  {
   "cell_type": "code",
   "execution_count": 116,
   "metadata": {},
   "outputs": [
    {
     "name": "stdout",
     "output_type": "stream",
     "text": [
      "0 participants have not answered.\n"
     ]
    }
   ],
   "source": [
    "#Display how many particpants haven't given an answer\n",
    "count = df[\"Q3\"].isna().sum()\n",
    "print(count, \"participants have not answered.\")"
   ]
  },
  {
   "cell_type": "code",
   "execution_count": 117,
   "metadata": {},
   "outputs": [
    {
     "data": {
      "text/plain": [
       "No, I am not                                71.052632\n",
       "Yes, I am currently using it                18.421053\n",
       "I intend to use it in the next 12 months     6.390977\n",
       "Used it in the past                          4.135338\n",
       "Name: Q3, dtype: float64"
      ]
     },
     "execution_count": 117,
     "metadata": {},
     "output_type": "execute_result"
    }
   ],
   "source": [
    "#Normalise the count to represent answers in percent\n",
    "df['Q3'].value_counts(sort=True, normalize=True) * 100"
   ]
  },
  {
   "cell_type": "code",
   "execution_count": 118,
   "metadata": {},
   "outputs": [
    {
     "data": {
      "image/png": "[encoded data removed]",
      "text/plain": [
       "<Figure size 432x288 with 1 Axes>"
      ]
     },
     "metadata": {},
     "output_type": "display_data"
    }
   ],
   "source": [
    "#Plot question three as a bar plot\n",
    "sns.set_theme(style=\"whitegrid\")\n",
    "\n",
    "#df_q3 = pd.read_csv('maia_data_copy.csv', usecols=['Q3'])\n",
    "countplot = sns.countplot(data=df, y=\"Q3\", order = df['Q3'].value_counts().index)\n",
    "#countplot.set_xticklabels(countplot.get_xticklabels(), rotation=45, ha=\"right\")\n",
    "countplot.set(xlabel=\"Have you used or will you be using AI?\", ylabel=\"\")\n",
    "\n",
    "plt.show()"
   ]
  },
  {
   "cell_type": "markdown",
   "metadata": {},
   "source": [
    "### Q4: Can you tell us the main reasons why you have not used AI applications so far? (Q4 displayed when Q3 'No, I am not' selected)"
   ]
  },
  {
   "cell_type": "code",
   "execution_count": 216,
   "metadata": {},
   "outputs": [
    {
     "name": "stdout",
     "output_type": "stream",
     "text": [
      "Lack of skills/training    100\n",
      "Lack of staff               45\n",
      "Missing technology          61\n",
      "No need                     55\n",
      "Other:                      17\n",
      "Too expensive               60\n",
      "dtype: int64\n"
     ]
    }
   ],
   "source": [
    "#Create dummies for each comma separated string value and sum them up\n",
    "p = df['Q4'].str.get_dummies(sep=',').sum()\n",
    "print(p)"
   ]
  },
  {
   "cell_type": "code",
   "execution_count": 218,
   "metadata": {},
   "outputs": [
    {
     "ename": "AttributeError",
     "evalue": "'list' object has no attribute 'value_counts'",
     "output_type": "error",
     "traceback": [
      "\u001b[0;31m---------------------------------------------------------------------------\u001b[0m",
      "\u001b[0;31mAttributeError\u001b[0m                            Traceback (most recent call last)",
      "\u001b[0;32m/var/folders/0q/vb93px9163qbzqp_f2g_35tr0000gp/T/ipykernel_86065/1618092296.py\u001b[0m in \u001b[0;36m<module>\u001b[0;34m\u001b[0m\n\u001b[1;32m      1\u001b[0m \u001b[0;31m#Nomrmalise the count and display percentages\u001b[0m\u001b[0;34m\u001b[0m\u001b[0;34m\u001b[0m\u001b[0m\n\u001b[0;32m----> 2\u001b[0;31m \u001b[0;34m[\u001b[0m\u001b[0;34m'p'\u001b[0m\u001b[0;34m]\u001b[0m\u001b[0;34m.\u001b[0m\u001b[0mvalue_counts\u001b[0m\u001b[0;34m(\u001b[0m\u001b[0msort\u001b[0m\u001b[0;34m=\u001b[0m\u001b[0;32mTrue\u001b[0m\u001b[0;34m,\u001b[0m \u001b[0mnormalize\u001b[0m\u001b[0;34m=\u001b[0m\u001b[0;32mTrue\u001b[0m\u001b[0;34m)\u001b[0m \u001b[0;34m*\u001b[0m \u001b[0;36m100\u001b[0m\u001b[0;34m\u001b[0m\u001b[0;34m\u001b[0m\u001b[0m\n\u001b[0m",
      "\u001b[0;31mAttributeError\u001b[0m: 'list' object has no attribute 'value_counts'"
     ]
    }
   ],
   "source": [
    "#Nomrmalise the count and display percentages\n",
    "['p'].value_counts(sort=True, normalize=True) * 100"
   ]
  },
  {
   "cell_type": "code",
   "execution_count": 120,
   "metadata": {},
   "outputs": [
    {
     "name": "stdout",
     "output_type": "stream",
     "text": [
      "88 participants have not answered.\n"
     ]
    }
   ],
   "source": [
    "#Display how many particpants haven't given an answer\n",
    "count = df[\"Q4\"].isna().sum()\n",
    "print(count, \"participants have not answered.\")"
   ]
  },
  {
   "cell_type": "markdown",
   "metadata": {},
   "source": [
    "### Q5: Are you personally interested in using AI for your work? (Q5 displayed when Q3 'No, I am not' selected)"
   ]
  },
  {
   "cell_type": "code",
   "execution_count": 121,
   "metadata": {},
   "outputs": [
    {
     "data": {
      "text/plain": [
       "Not really sure    80\n",
       "Yes                68\n",
       "No                 16\n",
       "I do not know      11\n",
       "Name: Q5, dtype: int64"
      ]
     },
     "execution_count": 121,
     "metadata": {},
     "output_type": "execute_result"
    }
   ],
   "source": [
    "#Count answers given\n",
    "df['Q5'].value_counts(sort=True)"
   ]
  },
  {
   "cell_type": "code",
   "execution_count": 122,
   "metadata": {},
   "outputs": [
    {
     "name": "stdout",
     "output_type": "stream",
     "text": [
      "91 participants have not answered.\n"
     ]
    }
   ],
   "source": [
    "#Print number of participants who have not answered this question\n",
    "count = df[\"Q5\"].isna().sum()\n",
    "print(count, \"participants have not answered.\")"
   ]
  },
  {
   "cell_type": "code",
   "execution_count": 123,
   "metadata": {},
   "outputs": [
    {
     "data": {
      "text/plain": [
       "Not really sure    45.714286\n",
       "Yes                38.857143\n",
       "No                  9.142857\n",
       "I do not know       6.285714\n",
       "Name: Q5, dtype: float64"
      ]
     },
     "execution_count": 123,
     "metadata": {},
     "output_type": "execute_result"
    }
   ],
   "source": [
    "#Normalise and print percentage\n",
    "df['Q5'].value_counts(sort=True, normalize=True) * 100"
   ]
  },
  {
   "cell_type": "code",
   "execution_count": 124,
   "metadata": {},
   "outputs": [
    {
     "data": {
      "image/png": "[encoded data removed]",
      "text/plain": [
       "<Figure size 432x288 with 1 Axes>"
      ]
     },
     "metadata": {},
     "output_type": "display_data"
    }
   ],
   "source": [
    "#Plot Q5\n",
    "sns.set_theme(style=\"whitegrid\")\n",
    "\n",
    "\n",
    "countplot = sns.countplot(data=df, y=\"Q5\", order = df['Q5'].value_counts().index)\n",
    "\n",
    "countplot.set(xlabel=\"Are you personally interested in using AI for your work?\", ylabel=\"\", xlim=(0,90))\n",
    "\n",
    "plt.show()"
   ]
  },
  {
   "cell_type": "markdown",
   "metadata": {},
   "source": [
    "### Q6: Is someone else/an external partner using AI applications at the institution you are working for?"
   ]
  },
  {
   "cell_type": "code",
   "execution_count": 125,
   "metadata": {},
   "outputs": [
    {
     "data": {
      "text/plain": [
       "No                             106\n",
       "I do not know                   80\n",
       "Yes, internal                   25\n",
       "Yes, external                   21\n",
       "Yes, internal,Yes, external     10\n",
       "Name: Q6, dtype: int64"
      ]
     },
     "execution_count": 125,
     "metadata": {},
     "output_type": "execute_result"
    }
   ],
   "source": [
    "#Count number of answers given and sort them\n",
    "df['Q6'].value_counts(sort=True)"
   ]
  },
  {
   "cell_type": "code",
   "execution_count": 126,
   "metadata": {},
   "outputs": [
    {
     "name": "stdout",
     "output_type": "stream",
     "text": [
      "24 participants have not answered.\n"
     ]
    }
   ],
   "source": [
    "#Count how many participants have not answered this question\n",
    "count = df[\"Q6\"].isna().sum()\n",
    "print(count, \"participants have not answered.\")"
   ]
  },
  {
   "cell_type": "code",
   "execution_count": 127,
   "metadata": {},
   "outputs": [
    {
     "data": {
      "text/plain": [
       "No                             43.801653\n",
       "I do not know                  33.057851\n",
       "Yes, internal                  10.330579\n",
       "Yes, external                   8.677686\n",
       "Yes, internal,Yes, external     4.132231\n",
       "Name: Q6, dtype: float64"
      ]
     },
     "execution_count": 127,
     "metadata": {},
     "output_type": "execute_result"
    }
   ],
   "source": [
    "#Nomrmalise the count and display percentages\n",
    "df['Q6'].value_counts(sort=True, normalize=True) * 100"
   ]
  },
  {
   "cell_type": "code",
   "execution_count": 128,
   "metadata": {},
   "outputs": [
    {
     "data": {
      "image/png": "[encoded data removed]",
      "text/plain": [
       "<Figure size 432x288 with 1 Axes>"
      ]
     },
     "metadata": {},
     "output_type": "display_data"
    }
   ],
   "source": [
    "#Plot Q6\n",
    "sns.set_theme(style=\"whitegrid\")\n",
    "\n",
    "\n",
    "countplot = sns.countplot(data=df, y=\"Q6\", order = df['Q6'].value_counts().index)\n",
    "\n",
    "countplot.set(xlabel=\"Is someone else/an external partner using AI applications at the institution you are working for?\", ylabel=\"\", xlim=(0,120))\n",
    "\n",
    "plt.show()"
   ]
  },
  {
   "cell_type": "markdown",
   "metadata": {},
   "source": [
    "### Q7: Can you tell us why someone else in your institution/externals might not have used AI so far? (Q7 displayed when Q6 \"No\" is selcted.)"
   ]
  },
  {
   "cell_type": "code",
   "execution_count": 129,
   "metadata": {},
   "outputs": [
    {
     "data": {
      "text/plain": [
       "Lack of skills/training    54\n",
       "Lack of staff              33\n",
       "Missing technology         43\n",
       "No need                    28\n",
       "Other:                     13\n",
       "Too expensive              40\n",
       "dtype: int64"
      ]
     },
     "execution_count": 129,
     "metadata": {},
     "output_type": "execute_result"
    }
   ],
   "source": [
    "#Create dummie variables for the strings and sum them up\n",
    "df['Q7'].str.get_dummies(sep=',').sum()"
   ]
  },
  {
   "cell_type": "code",
   "execution_count": 130,
   "metadata": {},
   "outputs": [
    {
     "name": "stdout",
     "output_type": "stream",
     "text": [
      "161 participants have not answered.\n"
     ]
    }
   ],
   "source": [
    "#Count how many participants have not answered the question\n",
    "count = df[\"Q7\"].isna().sum()\n",
    "print(count, \"participants have not answered.\")"
   ]
  },
  {
   "cell_type": "markdown",
   "metadata": {},
   "source": [
    "**Other** includes: We are a very small institutions, Insufficient information on how it might be used in our particular museum, Probably lack of awareness of what may be possible, It isn't something that we feel is missing from what we offer our visitors, awareness, Unaware of what it might offer, Lack of understanding of AI as an interpretive tool"
   ]
  },
  {
   "cell_type": "markdown",
   "metadata": {},
   "source": [
    "### Q8: Please describe how you or someone else are using/will use AI in your institution and tell us about the areas of application (e.g., computer vision, classification, visitor metrics, clustering, technical art history, production of exhibits etc.)"
   ]
  },
  {
   "cell_type": "markdown",
   "metadata": {},
   "source": [
    "**Free text answers:** Using AI to improve visitors' experience through interactive tools that enables them to imporve their knowledge of the exhibited topics; computer vision, nlp, classification, human computation, computational linguistic analysis, visualisations, crowdsourcing; Image recognition and keyword suggestions for digital collections findability; computer vision to generate metadata about digitized analogue photographs of artwork; computer vision applications primarily; sharing our data in semantic form, precise uses for it are still to be determined / in the hands of other people in the institution; used by wider council for filtering and responding to customer enquiries, not used by the museum service; we work with bristol university computer sciences department on yearly projects. a recent application was looking at ocr for handwritten documents; internally:  image classification (collection items/ specimens) as part of specimen data refinery/ digitisation work. externally; used by a security vendor for analysing website traffic and network traffic; production of exhibits; image database sorting based on computer vision; visitor metrics, clustering, iconography; image detection from user photos in museum games, tensor flow, and for similarity analysis of user photos to emotions and museum objects; heritage connector project: using the outputs of ner and nel models in the form of a knowledge graph. these will make their way to being experimental widgets on the collection website; visitor metrics, production of exhibits; computer vision, classifacition, visitor metrics; computer vision; developed a machine learning pipeline for the  analysis of collections related text, for entity recognition, vocabulary and ontology building and looking for decoloniosation effort such as bias identification and source community terminology building; museum is part of a university that has department experimenting with AI; production of exhibits on multimedia screen; computer vision to tag images, for an internal-use-only search function to help find relevant content; using linked data to connect collections, term extraction from large amounts of texts, visitor metric analysis; visitor metrics and production of exhibits and enhancing interpretation and access; a project that used the transkribus software to automatically transcribe the handwriting of ik brunel; will be experimenting with ai services to enhance collection data and investigate ai and collections user engagement; production of exhibits, vr/ar technology; interactive exhibition generating graphics based on google searches; text mining, read aloud; geographic information systems, crs, modelling, photogrammetry; potential development of temporary displays; museum and in a computer vision research group that works with museums; computer vision; i am a data scientist / machine learning engineer. we use machine learning to enrich our catalogue so that users can more easily search, explore, and discover more things in the collection. we use a lot of computer vision, natural language processing, clustering/similarity calculation, among other techniques; computer vision and natural language parsing; image analysis; interpretation of movement for a interactive exhibit; computer vision, classification, clustering, gan; art historical research: data mining, face recognition through machine learning, transcription through machine learning, data mining; I use AI in some of my work in geographic information systems, including the use of natural language processing for determining coordinate locations for collections having only descriptive locations; image segmentation and processing; visualizing paintings; computer vision; recommender system including clustering, classification and computer vision; ai for toolsets created to connect with the collection, artlensai: share your view is a reverse image search tool that uses ai to match your images to artworks from the cleveland museum of art's collection.  artlens for slack  lets you and your co-workers curate a new exhibition, unique to your company every monday and friday, while enriching your remote workplace .We also use ai for our collection online search and our custom created collection system - both use assure search;  ai for creating activities for target groups around the exhibition; creation of an individual route in the museum based on what the visitor likes; using it to add metadata to digitised collections and archive material; using cloud based speech to text to transcribe media for exhibits; ai-based video enhancement to bring exhibit videos up to more modern quality standards; computer vision; user metrics for apps and online offereings; computer vision"
   ]
  },
  {
   "cell_type": "markdown",
   "metadata": {},
   "source": [
    "### Q9: You have indicated that you or the institution you are working for have been using AI techniques. Was that:"
   ]
  },
  {
   "cell_type": "code",
   "execution_count": 131,
   "metadata": {},
   "outputs": [
    {
     "data": {
      "text/plain": [
       "On a project basis         29\n",
       "A long-term integration    20\n",
       "Just a trial               11\n",
       "I do not know               4\n",
       "Name: Q9, dtype: int64"
      ]
     },
     "execution_count": 131,
     "metadata": {},
     "output_type": "execute_result"
    }
   ],
   "source": [
    "#Count answers given\n",
    "df['Q9'].value_counts(sort=True)"
   ]
  },
  {
   "cell_type": "code",
   "execution_count": 132,
   "metadata": {},
   "outputs": [
    {
     "name": "stdout",
     "output_type": "stream",
     "text": [
      "202 participants have not answered.\n"
     ]
    }
   ],
   "source": [
    "#Count number of participants who have not answered the question\n",
    "count = df[\"Q9\"].isna().sum()\n",
    "print(count, \"participants have not answered.\")"
   ]
  },
  {
   "cell_type": "code",
   "execution_count": 133,
   "metadata": {},
   "outputs": [
    {
     "data": {
      "text/plain": [
       "On a project basis         45.3125\n",
       "A long-term integration    31.2500\n",
       "Just a trial               17.1875\n",
       "I do not know               6.2500\n",
       "Name: Q9, dtype: float64"
      ]
     },
     "execution_count": 133,
     "metadata": {},
     "output_type": "execute_result"
    }
   ],
   "source": [
    "#Normalise and print percentage\n",
    "df['Q9'].value_counts(sort=True, normalize=True) * 100"
   ]
  },
  {
   "cell_type": "code",
   "execution_count": 134,
   "metadata": {},
   "outputs": [
    {
     "data": {
      "image/png": "[encoded data removed]",
      "text/plain": [
       "<Figure size 432x288 with 1 Axes>"
      ]
     },
     "metadata": {},
     "output_type": "display_data"
    }
   ],
   "source": [
    "#Plot Q9\n",
    "sns.set_theme(style=\"whitegrid\")\n",
    "\n",
    "\n",
    "countplot = sns.countplot(data=df, y=\"Q9\", order = df['Q9'].value_counts().index)\n",
    "\n",
    "countplot.set(xlabel=\"Duration of AI application usage\", ylabel=\"\", xlim=(0,35))\n",
    "\n",
    "plt.show()"
   ]
  },
  {
   "cell_type": "markdown",
   "metadata": {},
   "source": [
    "### Q10: Was your experience working with AI positive or negative? Please explain:"
   ]
  },
  {
   "cell_type": "code",
   "execution_count": 135,
   "metadata": {},
   "outputs": [
    {
     "name": "stdout",
     "output_type": "stream",
     "text": [
      "209 participants have not answered.\n"
     ]
    }
   ],
   "source": [
    "#Count number of participants who have not answered the question\n",
    "count = df[\"Q10\"].isna().sum()\n",
    "print(count, \"participants have not answered.\")"
   ]
  },
  {
   "cell_type": "markdown",
   "metadata": {},
   "source": [
    "**Answers given:** "
   ]
  },
  {
   "cell_type": "markdown",
   "metadata": {},
   "source": [
    "**Positive (38):** it helps to improve visitors' experience through by contextualizing the exhibition;  i think the academic folk underestimate how much data cleaning is required beforehand and how much interpretation is required afterwards when working with historical data so they probably had some culture shock; positive with some caveats in understanding the output; positive, though didnt result in a usable product for now; positive, but it highlights the learning curve needed to embrace ai and to understand different types of ai, the skills and tooling needed; it created a better user experience; it was a research project which has proven successful; very much helps for working; showed collections from new perspective; positives were that the pipeline worked; some help for explaining exhibition; positive, with a caveat: it helped to do work which would otherwise be too much for people to do. but the results do need to be checked and interpreted. logical, but it's important to keep in mind ai is not a magic wand, it's a toolbelt in which each tool has flaws; positive although quite challenging with loads of learning curves; well received by audiences; visitors seemed to have fun with joining the project, and it was easy for project organizers to analyze the data; it allows for greater data research and the integration of several factor. portability and easy access are positive notes as well; my research group role has a number of collaborations - almost all have been positive, particularly those where there is an immediately realisable benefit in terms of collections management or description; very positive. using ml to infer features allows us to infer features about works in the collection (and similarities between them) makes it more connected, accessible, and interpretable as a whole. with a good technical foundation/platform, it's as easy to integrate as any other new technology; It was quite positive, i'm looking forward to integrating new ai projects; positive although it is perhaps a little overkill at the moment; positive but needs better batch processing; positive: interesting outcomes; using it for search has made our collection search powerful as well as the toolsets have increased engagement around the world.  we also use it in a game in our museum's artlens gallery where people look at artwork and make an expression.  that was one of our first ai uses and is not as powerful; my experience in using AI is super positive. i can plan routes according to visitors profiles; it was interesting and very new for our museum; yes postive, but we only got to a certain point - as part of the microsoft ai for good hack - and then all the team had to return to there day jobs; positive. We are looking into simple ai workflows that may save us money but crucially are able to be picked up by the current staff base without requiring specialist knowledge. i am myself employed on a project basis and when that finished they need a legacy not heavily reliant on a specialist skill set; positive. it's not a silver bullet, but when it works properly, it can seem like magic; it is somewhat helpful, but does not replace the need for evaluation <br>\n",
    "**Neutral (7):** The experimental results are exciting but the challenges of executing any of this work on a large scale are massive and frustrating; like many new technologies there were positives and negatives. the positives were that the pipeline worked. the negative was that it will take a lot more work to make it a standard tool we can easily re-use; mixed. we only use it internally because of issues with accuracy and mis-tagging, and concerns around ethics. in general it has been an interesting and helpful though; i'd classify it as neutral, really. most of our work was in classification and machine vision, but our collections are so diverse that the classifications didn't glean anything significantly useful; neutral, it has been very successful for facial recognition, particularly of our donors. its assigning of gender however is very problematic. it is also not good at assigning tags to contemporary art but for a lay person searching it works fine; <br>\n",
    "**Negative (4):** negative, image recognition did a poor job of suggesting relevant keywords for non literal or non figurative artworks; negative, because it was far from creativity. the team had not fully assimilated the objects; the outcome was more interesting for the technical researchers than for the museum"
   ]
  },
  {
   "cell_type": "markdown",
   "metadata": {},
   "source": [
    "### Q11: Would you describe the application as successful?"
   ]
  },
  {
   "cell_type": "code",
   "execution_count": 136,
   "metadata": {},
   "outputs": [
    {
     "data": {
      "text/plain": [
       "Yes              38\n",
       "I do not know    12\n",
       "No                3\n",
       "Name: Q11, dtype: int64"
      ]
     },
     "execution_count": 136,
     "metadata": {},
     "output_type": "execute_result"
    }
   ],
   "source": [
    "#Count aswers and display sorted\n",
    "df['Q11'].value_counts(sort=True)"
   ]
  },
  {
   "cell_type": "code",
   "execution_count": 137,
   "metadata": {},
   "outputs": [
    {
     "name": "stdout",
     "output_type": "stream",
     "text": [
      "213 participants have not answered.\n"
     ]
    }
   ],
   "source": [
    "#Count number of participants who have not answered the question\n",
    "count = df[\"Q11\"].isna().sum()\n",
    "print(count, \"participants have not answered.\")"
   ]
  },
  {
   "cell_type": "code",
   "execution_count": 138,
   "metadata": {},
   "outputs": [
    {
     "data": {
      "text/plain": [
       "Yes              71.698113\n",
       "I do not know    22.641509\n",
       "No                5.660377\n",
       "Name: Q11, dtype: float64"
      ]
     },
     "execution_count": 138,
     "metadata": {},
     "output_type": "execute_result"
    }
   ],
   "source": [
    "#Normalise and print percentage\n",
    "df['Q11'].value_counts(sort=True, normalize=True) * 100"
   ]
  },
  {
   "cell_type": "code",
   "execution_count": 139,
   "metadata": {},
   "outputs": [
    {
     "data": {
      "image/png": "[encoded data removed]",
      "text/plain": [
       "<Figure size 432x288 with 1 Axes>"
      ]
     },
     "metadata": {},
     "output_type": "display_data"
    }
   ],
   "source": [
    "#Plot Q11\n",
    "sns.set_theme(style=\"whitegrid\")\n",
    "\n",
    "\n",
    "countplot = sns.countplot(data=df, y=\"Q11\", order = df['Q11'].value_counts().index)\n",
    "\n",
    "countplot.set(xlabel=\"Would you describe the application as successful?\", ylabel=\"\")\n",
    "\n",
    "plt.show()"
   ]
  },
  {
   "cell_type": "markdown",
   "metadata": {},
   "source": [
    "### Q12: If it was sucessful, do you still use the application?"
   ]
  },
  {
   "cell_type": "code",
   "execution_count": 140,
   "metadata": {},
   "outputs": [
    {
     "data": {
      "text/plain": [
       "Yes          22\n",
       "Sometimes     8\n",
       "No            8\n",
       "Name: Q12, dtype: int64"
      ]
     },
     "execution_count": 140,
     "metadata": {},
     "output_type": "execute_result"
    }
   ],
   "source": [
    "#Count answers and sort descending\n",
    "df['Q12'].value_counts(sort=True)"
   ]
  },
  {
   "cell_type": "code",
   "execution_count": 141,
   "metadata": {},
   "outputs": [
    {
     "name": "stdout",
     "output_type": "stream",
     "text": [
      "228 participants have not answered.\n"
     ]
    }
   ],
   "source": [
    "#Count number of participants who have not answered the question\n",
    "count = df[\"Q12\"].isna().sum()\n",
    "print(count, \"participants have not answered.\")"
   ]
  },
  {
   "cell_type": "code",
   "execution_count": 142,
   "metadata": {},
   "outputs": [
    {
     "data": {
      "text/plain": [
       "Yes          57.894737\n",
       "Sometimes    21.052632\n",
       "No           21.052632\n",
       "Name: Q12, dtype: float64"
      ]
     },
     "execution_count": 142,
     "metadata": {},
     "output_type": "execute_result"
    }
   ],
   "source": [
    "#Normalise and display percentage\n",
    "df['Q12'].value_counts(sort=True, normalize=True) * 100"
   ]
  },
  {
   "cell_type": "code",
   "execution_count": 143,
   "metadata": {},
   "outputs": [
    {
     "data": {
      "image/png": "[encoded data removed]",
      "text/plain": [
       "<Figure size 432x288 with 1 Axes>"
      ]
     },
     "metadata": {},
     "output_type": "display_data"
    }
   ],
   "source": [
    "#Plot Q12\n",
    "sns.set_theme(style=\"whitegrid\")\n",
    "\n",
    "\n",
    "countplot = sns.countplot(data=df, y=\"Q12\", order = df['Q12'].value_counts().index)\n",
    "\n",
    "countplot.set(xlabel=\"If it was successful, do you still use the application?\", ylabel=\"\", xlim=(0,25))\n",
    "\n",
    "plt.show()"
   ]
  },
  {
   "cell_type": "markdown",
   "metadata": {},
   "source": [
    "### Q13: Why did you stop using the application? (Q13 displayed if Q12 'No' selected)"
   ]
  },
  {
   "cell_type": "code",
   "execution_count": 144,
   "metadata": {},
   "outputs": [
    {
     "name": "stdout",
     "output_type": "stream",
     "text": [
      "259 participants have not answered.\n"
     ]
    }
   ],
   "source": [
    "#Count number of participants who have not answered the question\n",
    "count = df[\"Q13\"].isna().sum()\n",
    "print(count, \"participants have not answered.\")"
   ]
  },
  {
   "cell_type": "markdown",
   "metadata": {},
   "source": [
    "**Answers given:** not successful; ended after project duration; a charge was introduced which we couldn't meet; i took a different position and no longer worked with that application. i left the source code for my successor, though; no interesting results yet; no need; not complete"
   ]
  },
  {
   "cell_type": "markdown",
   "metadata": {},
   "source": [
    "### Q14: If you have worked on an application with a partner (e.g., university, other museums, freelancer) would you describe the collaboration as positive or negative? Please give reasons."
   ]
  },
  {
   "cell_type": "code",
   "execution_count": 145,
   "metadata": {},
   "outputs": [
    {
     "name": "stdout",
     "output_type": "stream",
     "text": [
      "232 participants have not answered.\n"
     ]
    }
   ],
   "source": [
    "#Count number of participants who have not answered the question\n",
    "count = df[\"Q14\"].isna().sum()\n",
    "print(count, \"participants have not answered.\")"
   ]
  },
  {
   "cell_type": "markdown",
   "metadata": {},
   "source": [
    "**Positive (27):** positive but also necessary in order to bring in the technical expertise; we wouldn't have internal resources or expertise to do the same work, and we're coming up with novel and useful research questions / applications; as a student the partner had more leeway/time to experiment; it was very positive due to the combination of skills in the project teams and the novel approach to problem solving; shared knowledge; positive as it involved external partners with an innovative access to our museum content; technical application was pretty easy and straight forward; positive because easy to reach some knowledge; positive. we worked with the University of Sheffield (using their gate tool) and also with our middleware suppliers (knowledge integration) who embedded the pipeline in our web data processing; positive. we collaborated with eu project partners who were all knowledgable in their field; with a partner yes, positive. quite hard to perceive the final results, but once it became more clear it was easier to understand what was required; positive - we had a lot of support; discussion went smoothly with analytical data by ai; positive, as the integration of computer based analysis and data management through gis is still in its nascent, therefore it was an open discussion on how to best adapt tools and systems to our projects; the collaborations have been positive for the research group in terms of validating methods and demonstrating impact of epsrc-funded research, while for museum collaborators they have created value in terms of improved collections management and description; very positive. artists have used the collection (and its ml-enriched features) to produce some really beautiful results. data science/digital humanities students have used some of the problems we've tackled as msc projects, and produced novel, innovative work. academic researchers have used the collection (or subsections of it) as the foundation for applied-ml research; helps u to resolve other technical issues which are hard if you don't have a technical degree; it helps you expand your scope by collaborating with interdisciplinary professionals and researchers; for artlens ai we worked with an interactive designer. we created this for pandemic and people use it still daily . Partnership was great. However, our inhouse team led the project; we are working with assetbank. they are a great vendor; we worked with a specialist contractor. It has been positive- they supply expertise that we do not have ( or at this point, require) from our regular staff. we have a support contract with them, so once the initial projects were set up, they continued tech support etc.; <br>\n",
    "**Negative (3):** one negative to mention then, is the continuing cost of using these programs. We need to justify this financially on an ongoing basis; because it was far from creativity. it was very ordinary; dams vendor, negative as it was a plug in license without any training capability"
   ]
  },
  {
   "cell_type": "markdown",
   "metadata": {},
   "source": [
    "### Q15: Do you think AI applications can enhance the visitor experience on-site?"
   ]
  },
  {
   "cell_type": "code",
   "execution_count": 146,
   "metadata": {},
   "outputs": [
    {
     "data": {
      "text/plain": [
       "Yes                       77\n",
       "Probably in the future    77\n",
       "I do not know             44\n",
       "No                         4\n",
       "Name: Q15, dtype: int64"
      ]
     },
     "execution_count": 146,
     "metadata": {},
     "output_type": "execute_result"
    }
   ],
   "source": [
    "#Count and sort the answers\n",
    "df['Q15'].value_counts(sort=True)"
   ]
  },
  {
   "cell_type": "code",
   "execution_count": 147,
   "metadata": {},
   "outputs": [
    {
     "name": "stdout",
     "output_type": "stream",
     "text": [
      "64 participants have not answered.\n"
     ]
    }
   ],
   "source": [
    "#Count number of participants who have not answered the question\n",
    "count = df[\"Q15\"].isna().sum()\n",
    "print(count, \"participants have not answered.\")"
   ]
  },
  {
   "cell_type": "code",
   "execution_count": 148,
   "metadata": {},
   "outputs": [
    {
     "data": {
      "text/plain": [
       "Yes                       38.118812\n",
       "Probably in the future    38.118812\n",
       "I do not know             21.782178\n",
       "No                         1.980198\n",
       "Name: Q15, dtype: float64"
      ]
     },
     "execution_count": 148,
     "metadata": {},
     "output_type": "execute_result"
    }
   ],
   "source": [
    "#Normalise and calculate percentage\n",
    "df['Q15'].value_counts(sort=True, normalize=True) * 100"
   ]
  },
  {
   "cell_type": "code",
   "execution_count": 149,
   "metadata": {},
   "outputs": [
    {
     "data": {
      "image/png": "[encoded data removed]",
      "text/plain": [
       "<Figure size 432x288 with 1 Axes>"
      ]
     },
     "metadata": {},
     "output_type": "display_data"
    }
   ],
   "source": [
    "#Plot Q15\n",
    "sns.set_theme(style=\"whitegrid\")\n",
    "\n",
    "\n",
    "countplot = sns.countplot(data=df, y=\"Q15\", order = df['Q15'].value_counts().index)\n",
    "\n",
    "countplot.set(xlabel=\"Can AI enhance visitor experience on-site?\", ylabel=\"\", xlim=(0,90))\n",
    "#sns.despine(trim=True)\n",
    "\n",
    "\n",
    "plt.show()"
   ]
  },
  {
   "cell_type": "markdown",
   "metadata": {},
   "source": [
    "### Q37 (question order changed due to block arrangement in survey): Do you think AI applications can enhance the user experience of museum content online?"
   ]
  },
  {
   "cell_type": "code",
   "execution_count": 150,
   "metadata": {},
   "outputs": [
    {
     "data": {
      "text/plain": [
       "Yes                       121\n",
       "Probably in the future     50\n",
       "I do not know              31\n",
       "No                          4\n",
       "Name: Q37, dtype: int64"
      ]
     },
     "execution_count": 150,
     "metadata": {},
     "output_type": "execute_result"
    }
   ],
   "source": [
    "#Count answers and sort\n",
    "df['Q37'].value_counts(sort=True)"
   ]
  },
  {
   "cell_type": "code",
   "execution_count": 151,
   "metadata": {},
   "outputs": [
    {
     "name": "stdout",
     "output_type": "stream",
     "text": [
      "60 participants have not answered.\n"
     ]
    }
   ],
   "source": [
    "#Count number of participants who have not answered the question\n",
    "count = df[\"Q37\"].isna().sum()\n",
    "print(count, \"participants have not answered.\")"
   ]
  },
  {
   "cell_type": "code",
   "execution_count": 152,
   "metadata": {},
   "outputs": [
    {
     "data": {
      "text/plain": [
       "Yes                       58.737864\n",
       "Probably in the future    24.271845\n",
       "I do not know             15.048544\n",
       "No                         1.941748\n",
       "Name: Q37, dtype: float64"
      ]
     },
     "execution_count": 152,
     "metadata": {},
     "output_type": "execute_result"
    }
   ],
   "source": [
    "#Normalise and calculate percentage\n",
    "df['Q37'].value_counts(sort=True, normalize=True) * 100"
   ]
  },
  {
   "cell_type": "code",
   "execution_count": 153,
   "metadata": {},
   "outputs": [
    {
     "data": {
      "image/png": "[encoded data removed]",
      "text/plain": [
       "<Figure size 432x288 with 1 Axes>"
      ]
     },
     "metadata": {},
     "output_type": "display_data"
    }
   ],
   "source": [
    "#Plot Q37\n",
    "sns.set_theme(style=\"whitegrid\")\n",
    "\n",
    "\n",
    "countplot = sns.countplot(data=df, y=\"Q37\", order = df['Q37'].value_counts().index)\n",
    "\n",
    "countplot.set(xlabel=\"Can AI enhance visitor experience online?\", ylabel=\"\", xlim=(0,140))\n",
    "#sns.despine(trim=True)\n",
    "\n",
    "\n",
    "plt.show()"
   ]
  },
  {
   "cell_type": "markdown",
   "metadata": {},
   "source": [
    "### Q16: Do you think the current digital capacity of your institution is sufficient to tackle the challenges of the future?"
   ]
  },
  {
   "cell_type": "code",
   "execution_count": 154,
   "metadata": {},
   "outputs": [
    {
     "data": {
      "text/plain": [
       "No                                89\n",
       "Partially, needs major updates    70\n",
       "Mostly, needs minor updates       23\n",
       "Yes, it is                        12\n",
       "I do not know                      9\n",
       "Name: Q16, dtype: int64"
      ]
     },
     "execution_count": 154,
     "metadata": {},
     "output_type": "execute_result"
    }
   ],
   "source": [
    "#Count answers and sort descending\n",
    "df['Q16'].value_counts(sort=True)"
   ]
  },
  {
   "cell_type": "code",
   "execution_count": 155,
   "metadata": {},
   "outputs": [
    {
     "name": "stdout",
     "output_type": "stream",
     "text": [
      "63 participants have not answered.\n"
     ]
    }
   ],
   "source": [
    "#Count number of participants who have not answered the question\n",
    "count = df[\"Q16\"].isna().sum()\n",
    "print(count, \"participants have not answered.\")"
   ]
  },
  {
   "cell_type": "code",
   "execution_count": 156,
   "metadata": {},
   "outputs": [
    {
     "data": {
      "text/plain": [
       "No                                43.842365\n",
       "Partially, needs major updates    34.482759\n",
       "Mostly, needs minor updates       11.330049\n",
       "Yes, it is                         5.911330\n",
       "I do not know                      4.433498\n",
       "Name: Q16, dtype: float64"
      ]
     },
     "execution_count": 156,
     "metadata": {},
     "output_type": "execute_result"
    }
   ],
   "source": [
    "df['Q16'].value_counts(sort=True, normalize=True) * 100"
   ]
  },
  {
   "cell_type": "code",
   "execution_count": 157,
   "metadata": {},
   "outputs": [
    {
     "data": {
      "image/png": "[encoded data removed]",
      "text/plain": [
       "<Figure size 432x288 with 1 Axes>"
      ]
     },
     "metadata": {},
     "output_type": "display_data"
    }
   ],
   "source": [
    "#Plot Q16\n",
    "sns.set_theme(style=\"whitegrid\")\n",
    "\n",
    "\n",
    "countplot = sns.countplot(data=df, y=\"Q16\", order = df['Q16'].value_counts().index)\n",
    "\n",
    "countplot.set(xlabel=\"Current digital set-up ready for future demands?\", ylabel=\"\", xlim=(0,90))\n",
    "#sns.despine(trim=True)\n",
    "\n",
    "\n",
    "plt.show()"
   ]
  },
  {
   "cell_type": "markdown",
   "metadata": {},
   "source": [
    "### Q17: What type of software are you using to store, modify, and query information about the collections you are working with?"
   ]
  },
  {
   "cell_type": "markdown",
   "metadata": {},
   "source": [
    "**Free text answers:** we have created dedicated apps (developed by our partners and suppliers); we have a special programme provided by external supplier; azure, colab, notebooks, python, sql databases, file systems, excel, open refine, zooniverse; web based application called mues (acronym for  museum national inventory system) is used nationwide (all state museums) in order to make inventory of all artifacts in the museums; local software; the museum system; google drive; dams, cms; gallery systems tms, sql, elasticsearch, rest api, aws s3; internal database; modes; collection, archiver, and library management systems, dams, bespoke databases, report-writing software, hand-written integrations, middleware; mimsy, ms office; modes; ibase; emu; emu for collections mgmt database, ibm cloud object store for storage, power bi for reporting/ visualisation of digitisation/ collections management information; modes for museums; museums-specific cms, also various excel spreadsheets; i do not know exactly, but it seems insufficient; salesforce, microsoft word and microsoft excel; axiell; museum+, custom db; cms atom; not applicable (very small collection yet); do not have such software; system set up by the university of manchester via the website and a collection management software emu; office; mues (software of the ministry); mimsy xg (an oracle sql based database) and a wiki (dokuwiki). we translate all our data and text into json and elasticsearch; mimsy; modes; tms, emuseum, custom built applications further up the stack; json, sparql, textrazor, airtable, google spreadsheets, collections systems etc; adlib; modes; own database backup, administration cloud; collection management system (app layer adlib, database ms sql server), collections information integration middleware (ciim); very outdated version of a programme bought ca 10 years ago; museum information system (software owned and developed by the national heritage board of estonia); muis; for now, we've been trying to use different types of software including free ones, and still not yet decided; arcgis; ms excel; google business suite, ms office; file; long-life and user-centered data management systems; emu; numerous in-house developed algorithms (cnns, python toolkits such as opencv), sql databases; mimsy xg; axiell calm; elasticsearch, various aws storage solutions, azure as redundancy storage; ke emu; adlib; modes; collection database, basic boolean queries; pastperfect; embark; modes; qi platform by keepthinking; tms; specify; filemaker; the gallery system; sql database; axiell collections cms; emu; internal synology nas, past perfect software, custom built software; modes; modes; filemaker; modes; excel; cms; emu; tracks; several different data silos, including cms, dams, catalogs, spreadsheets, and everything in between; omeka; adlib; access;lightroom;oracle, toad,coldfusion. ma access; filemaker pro; microsoft; mimsy xg; modes; transcription, translation, image recognition, page fragmentation; modes; emu, arcgis, geolocate; content dm; calm; excel; excel; limis; database; museum index+, collections index +; mimsy xg; sarpur.is; adlib; adlib; assure search; cms; sql server; rather limited cms; adlib; excel; modes; local russian software kamis; muse.run; mimsy xg; in-house developed cms; we are developing in house our own tools based on open source technologies; filemaker; cms - axiells emuu, data occassionally exported as csv then reimported, where more practical for data-work; basic microsoft software; modes complete db running on windows 10; imdas; modes complete; modes; ria; modes; adlib; mimsy; ehive; ninox database; spreadsheets; vernon; modes complete; cms; cms, middleware content aggregator, website, touchscreens, database with other integration, ke emu; cms; adlib and calm; pre-packaged database for collections (artifacts, manuscripts, photographs); tms; mimsy xg; i don't manage collections but each dept with collections here uses a different platform: herbarium, historic objects, archives, library, and live plant collections; adlib; assetbank; tms, web based cms, other onsite dams"
   ]
  },
  {
   "cell_type": "code",
   "execution_count": 158,
   "metadata": {},
   "outputs": [
    {
     "name": "stdout",
     "output_type": "stream",
     "text": [
      "109 participants have not answered.\n"
     ]
    }
   ],
   "source": [
    "#Count number of participants who have not answered the question\n",
    "count = df[\"Q17\"].isna().sum()\n",
    "print(count, \"participants have not answered.\")"
   ]
  },
  {
   "cell_type": "markdown",
   "metadata": {},
   "source": [
    "### Q18: Do you think the software aforementioned is suitable for your work? I.e. do you find it easy to store and find relevant information about the collection."
   ]
  },
  {
   "cell_type": "code",
   "execution_count": 159,
   "metadata": {},
   "outputs": [
    {
     "data": {
      "text/plain": [
       "Yes                                                                               66\n",
       "I can do my work, but there are shortfalls/things to improve. Please describe:    47\n",
       "I do not know                                                                     38\n",
       "No                                                                                28\n",
       "Name: Q18, dtype: int64"
      ]
     },
     "execution_count": 159,
     "metadata": {},
     "output_type": "execute_result"
    }
   ],
   "source": [
    "#Q18\n",
    "df['Q18'].value_counts(sort=True)"
   ]
  },
  {
   "cell_type": "markdown",
   "metadata": {},
   "source": [
    "**Please describe:** we develop a new app for each new experience so it demands a lot of work; working with collections at scale becomes expensive in a cloud-based system. copyright complicates access; cross querying databases is currently not possible; this is a massive question. there are shortcomings in nearly all major collection / library / archive management systems and dams; and unmanaged direct queries into source systems are not sustainable; we are considering an upgrade as there are insufficient fields and it's not particularly user friendly; user experience is shitty; it's not my  expertise but what i hear is that there are always updates to be done and language system problems with the updating. moreover, depending on the programs we participate in, all data has be to entered each time; needs updates and open access to all curators. currently only one staff member does all the work on the programme; the search facility is limited and inflexible for the lay user; public interface is better than for staff; there is no integration between ai and collections management or digital asset management software, and vendors are reluctant to implement it without support; not suitable for museum collection. suitable for archive collection but not museums; very difficult for non-specialists to find correct information; shortfalls are often related to the quality of our own data; out of date and not very user friendly, doesn't have a public face; not a good cloud solution and need to be able to access from remote locations; incredibly dated, not intuitive and not fit for the modern museum; lack of developer resource to improve inhouse databases and apps; see previous comment on batch processing; it's not created for art info mgmt; system is clunky and awkward; data inputted requires editing; software is generally outdated; insufficiently searchable, not available for public interogation, limited storage; search functions are limited and quirky. producing tailored output is difficult as we are limited to what the application allows. bespoke outputs can be designed for us but they have a cost that is beyond our means; ability to upload certain types of supporting information; lack of digital literacy in an organsiation; searching could be easier, it would be good to be able to embed more digital content in records; consistency of data entry is a hindrance to universal accessibility, so is lack of data entry, a topic being currently grant-funded; not very user-friendly, intuitive, easily navigable. requires a lot of manual input. would be good if there was more automated functionality and flow of information. reporting functionality is limited"
   ]
  },
  {
   "cell_type": "code",
   "execution_count": 160,
   "metadata": {},
   "outputs": [
    {
     "name": "stdout",
     "output_type": "stream",
     "text": [
      "87 participants have not answered.\n"
     ]
    }
   ],
   "source": [
    "#Count number of participants who have not answered the question\n",
    "count = df[\"Q18\"].isna().sum()\n",
    "print(count, \"participants have not answered.\")"
   ]
  },
  {
   "cell_type": "code",
   "execution_count": 161,
   "metadata": {},
   "outputs": [
    {
     "data": {
      "image/png": "[encoded data removed]",
      "text/plain": [
       "<Figure size 432x288 with 1 Axes>"
      ]
     },
     "metadata": {},
     "output_type": "display_data"
    }
   ],
   "source": [
    "sns.set_theme(style=\"whitegrid\")\n",
    "\n",
    "\n",
    "countplot = sns.countplot(data=df, y=\"Q18\", order = df['Q18'].value_counts().index)\n",
    "\n",
    "countplot.set(xlabel=\"Software suitable for workflows\", ylabel=\"\", xlim=(0,70))\n",
    "#sns.despine(trim=True)\n",
    "\n",
    "\n",
    "plt.show()"
   ]
  },
  {
   "cell_type": "markdown",
   "metadata": {},
   "source": [
    "### Q19: Are you working with ontologies (e.g., CIDOC CRM) or other methods of knowledge representation?"
   ]
  },
  {
   "cell_type": "code",
   "execution_count": 162,
   "metadata": {},
   "outputs": [
    {
     "data": {
      "text/plain": [
       "No. Please explain why:    117\n",
       "Yes                         57\n",
       "Name: Q19, dtype: int64"
      ]
     },
     "execution_count": 162,
     "metadata": {},
     "output_type": "execute_result"
    }
   ],
   "source": [
    "#Q19\n",
    "df['Q19'].value_counts(sort=True)"
   ]
  },
  {
   "cell_type": "markdown",
   "metadata": {},
   "source": [
    "**Please explain why:** i'm not sure; not relevant in these particular cases, in other cases we use relevant standards (but never cidoc crm); im in tech not archive - not sure on their processes; planned, but not yet implemented; not sure; dont have time or capacity; not needed; never heard of it (i just googled it now); lack of staff and technical resources; not my working field within the museum; never heard of them; cause my institution has not gotten to the point of identifying and purchasing the software; i dont know it; partial use only; i am not in charge with documentatation work, so dont have access to the programme; we have created our own system; need new one based on a new philosophy; i dont know what those things are; insufficient resources; no. had no idea what cidoc crm was/is; i dont understand what this is; lack of staff - we have no paid staff; lack of staff; small local authority run museum and art gallery means our it infrastructure is run by the authority and is therefore very regulated and limited as to what we can use; not sure what this means. we use a thesaurus to ensure consistent terms across database; i'm not sure what this refers to; unsure of what this is, not in my department; lack of skills/training; resources and time to implement - plus lack of support from some colleagues and management; don't even know what that is; not come across these; unsure - we have a small collection; not applicable; I am unsure if tracks uses any particular methodology; while i'd love to do so, none of my collaborators here at this institution are familiar with these ontologies with enough familiarity that implementing them is impractical at this point in time; don't know what these are; i don't know what this is; no need; i do not know; no capacity or knowledge; don't know; not familiar; not in our purview (on campus); no need; no need; i do not know; i don't know why; no need; no idea; not even sure what this means; we have no capacity; because i don't know what they are; not part of my role; our cms is only used in house due to historical practices we have several datasets that are not compatible with each other as historically curators maintained datasets separately with modes for ms dos. these datasets were not networked. their structures are not entirely compatible between datsets and a huge abount of time willl be needed to clean the datasets to make them compatible and then unify to one dataset. we have managed to unify several datasets. due tolack of funding and staff we do not have the capacity to complete this in a short period; no idea what that means; never heard of it; lack of knowledge; i don't know what that is; not my role/department; as far as I know, these exist but not discussed with occasional users of software; lack of knowledge about what they are; no need; not sure what that is; not part of the work i do (exhibitions)  "
   ]
  },
  {
   "cell_type": "code",
   "execution_count": 163,
   "metadata": {},
   "outputs": [
    {
     "name": "stdout",
     "output_type": "stream",
     "text": [
      "92 participants have not answered.\n"
     ]
    }
   ],
   "source": [
    "#Count number of participants who have not answered the question\n",
    "count = df[\"Q19\"].isna().sum()\n",
    "print(count, \"participants have not answered.\")"
   ]
  },
  {
   "cell_type": "code",
   "execution_count": 164,
   "metadata": {},
   "outputs": [
    {
     "data": {
      "text/plain": [
       "No. Please explain why:    67.241379\n",
       "Yes                        32.758621\n",
       "Name: Q19, dtype: float64"
      ]
     },
     "execution_count": 164,
     "metadata": {},
     "output_type": "execute_result"
    }
   ],
   "source": [
    "df['Q19'].value_counts(sort=True, normalize=True) * 100"
   ]
  },
  {
   "cell_type": "code",
   "execution_count": 165,
   "metadata": {},
   "outputs": [
    {
     "data": {
      "image/png": "[encoded data removed]",
      "text/plain": [
       "<Figure size 432x288 with 1 Axes>"
      ]
     },
     "metadata": {},
     "output_type": "display_data"
    }
   ],
   "source": [
    "q19 = df['Q19'].value_counts(sort=True)\n",
    "\n",
    "#define data\n",
    "data = q19\n",
    "labels = ['No', 'Yes']\n",
    "\n",
    "#define Seaborn color palette to use\n",
    "colors = sns.color_palette('pastel')[0:5]\n",
    "\n",
    "#create pie chart\n",
    "plt.pie(data, labels = labels, colors = colors, autopct='%.0f%%')\n",
    "plt.title(\"Use of ontologies\", fontsize=14)\n",
    "plt.show()"
   ]
  },
  {
   "cell_type": "markdown",
   "metadata": {},
   "source": [
    "### Q20: Do you think current databases are suitable to describe museum information and knowledge?"
   ]
  },
  {
   "cell_type": "code",
   "execution_count": 166,
   "metadata": {},
   "outputs": [
    {
     "data": {
      "text/plain": [
       "Somehow, but needs improvement. Please describe:    51\n",
       "Yes, suitable                                       50\n",
       "I do not know                                       41\n",
       "No, they are not suitable. Please describe:         21\n",
       "Name: Q20, dtype: int64"
      ]
     },
     "execution_count": 166,
     "metadata": {},
     "output_type": "execute_result"
    }
   ],
   "source": [
    "#Count answers and sort descending\n",
    "df['Q20'].value_counts(sort=True)"
   ]
  },
  {
   "cell_type": "markdown",
   "metadata": {},
   "source": [
    "**Somehow, but needs improvement. Please describe:** better round-tripping so you can improve records outside the system than re-import updated records sensibly; they must be more practic and have to be get bigger; brittle architecture and simplistic understanding of knowledge makes our tools outdated and reinforce certain cultural hierarchies; the ones we use tend to be incompatible with a conceptual reference model without much abstraction or transformation; better usability; there are plenty of different tools for different museum function, this complicates the digital environment; they don't map easily to the cidoc event-driven model and their data models are often sub-optimal, having evolved over years or decades and they're seldom built with interoperability in mind; needs rationalising: nhm currently working on requirements for new collections mgmt system and associated data model; again, too complex, too many different usages from different users, so data becomes not equally modelled; system does not provide flexibility of data; there are so many models / ontologies that you need a lot of expertise and knowhow to pick and assemble them; current database is basic. it needs to move more on to the ai, but technology change must go in hand of staff training, which is not usually the case; more flexibility and user-friendly language; lack of support for cross-domain materials that straddle museums and other institutions. no (or very little) ai capabilities; needs to be more accessible and more connected to other data nationally and internationally; they need to allow for more nuance, especially regarding Event description and cataloging; manage better relationships between analogue objects and digital representations; in the main but increasingly they do not allow for multiple interpretations or viewpoints - or recording/marking of outdated data which may still provide useful research information; not always easy to retrieve information and present professionly snd eadily for visitor engagement; not intuative or user friendly for non-museum staff; better schemas and ontologies. better collaboration; it's not always easy to search for past attributions of artworks. also it's hard to search for artworks that are of unknown authorship; api and cross platform accessibility is lacking; i've just started getting into graph databases, and i imagine that is how things really relate in a museum; they are limited in what they can store and how they can be accessed; most of them are not flexible; they lack certain locations and access for information; accessibility; can be cumbersome to use; they are suitable, but development needs to respond more quickly to both technological and societal changes. small organisations rely heavily on cms providers, as we simply don't have the in-house staff time and expertise; needs better image asset management; better networks, faster, easier to use; institutions are still discovering the needs behind data collection; 3d replication, compatibility with email, it skills amongst our public (eg elderly without good computer knowledge); better metadata and interoperability; current system is inadequate, for ux reasons, and missing data that would inform interpretive work; need to be able to integrate digital elements e.g. video, audio files, and to be able to store tangential information about collection objects (and link them to other items in the collection more easily); the database we use includes all areas of the permanent collection, which aids researchers"
   ]
  },
  {
   "cell_type": "code",
   "execution_count": 167,
   "metadata": {},
   "outputs": [
    {
     "name": "stdout",
     "output_type": "stream",
     "text": [
      "103 participants have not answered.\n"
     ]
    }
   ],
   "source": [
    "#Count number of participants who have not answered the question\n",
    "count = df[\"Q20\"].isna().sum()\n",
    "print(count, \"participants have not answered.\")"
   ]
  },
  {
   "cell_type": "code",
   "execution_count": 168,
   "metadata": {},
   "outputs": [
    {
     "data": {
      "image/png": "[encoded data removed]",
      "text/plain": [
       "<Figure size 432x288 with 1 Axes>"
      ]
     },
     "metadata": {},
     "output_type": "display_data"
    }
   ],
   "source": [
    "sns.set_theme(style=\"whitegrid\")\n",
    "\n",
    "\n",
    "countplot = sns.countplot(data=df, y=\"Q20\", order = df['Q20'].value_counts().index)\n",
    "\n",
    "countplot.set(xlabel=\"Do you think current databases are suitable to describe museum information and knowledge?\", ylabel=\"\", xlim=(0,60))\n",
    "#sns.despine(trim=True)\n",
    "\n",
    "\n",
    "plt.show()"
   ]
  },
  {
   "cell_type": "markdown",
   "metadata": {},
   "source": [
    "### Q21: Does your museum employ a data scientist?"
   ]
  },
  {
   "cell_type": "code",
   "execution_count": 169,
   "metadata": {},
   "outputs": [
    {
     "data": {
      "text/plain": [
       "No                    128\n",
       "Yes, 1-5               19\n",
       "I do not know          14\n",
       "Used to employ one      2\n",
       "Yes, 6+                 2\n",
       "Name: Q21, dtype: int64"
      ]
     },
     "execution_count": 169,
     "metadata": {},
     "output_type": "execute_result"
    }
   ],
   "source": [
    "#Count answers and sort descending\n",
    "df['Q21'].value_counts(sort=True)"
   ]
  },
  {
   "cell_type": "code",
   "execution_count": 170,
   "metadata": {},
   "outputs": [
    {
     "name": "stdout",
     "output_type": "stream",
     "text": [
      "101 participants have not answered.\n"
     ]
    }
   ],
   "source": [
    "#Count number of participants who have not answered the question\n",
    "count = df[\"Q21\"].isna().sum()\n",
    "print(count, \"participants have not answered.\")"
   ]
  },
  {
   "cell_type": "code",
   "execution_count": 171,
   "metadata": {},
   "outputs": [
    {
     "data": {
      "image/png": "[encoded data removed]",
      "text/plain": [
       "<Figure size 432x288 with 1 Axes>"
      ]
     },
     "metadata": {},
     "output_type": "display_data"
    }
   ],
   "source": [
    "sns.set_theme(style=\"whitegrid\")\n",
    "\n",
    "\n",
    "countplot = sns.countplot(data=df, y=\"Q21\", order = df['Q21'].value_counts().index)\n",
    "\n",
    "countplot.set(xlabel=\"Does your museum employ a data scientist?\", ylabel=\"\", xlim=(0,140))\n",
    "#sns.despine(trim=True)\n",
    "\n",
    "\n",
    "plt.show()"
   ]
  },
  {
   "cell_type": "markdown",
   "metadata": {},
   "source": [
    "### Q22: Does your museum employ a dedicated AI engineer/machine learning specialist?"
   ]
  },
  {
   "cell_type": "code",
   "execution_count": 172,
   "metadata": {},
   "outputs": [
    {
     "data": {
      "text/plain": [
       "No               144\n",
       "I do not know     10\n",
       "Yes, 1-5           9\n",
       "Name: Q22, dtype: int64"
      ]
     },
     "execution_count": 172,
     "metadata": {},
     "output_type": "execute_result"
    }
   ],
   "source": [
    "#Count answers and sort descending\n",
    "df['Q22'].value_counts(sort=True)"
   ]
  },
  {
   "cell_type": "code",
   "execution_count": 173,
   "metadata": {},
   "outputs": [
    {
     "name": "stdout",
     "output_type": "stream",
     "text": [
      "103 participants have not answered.\n"
     ]
    }
   ],
   "source": [
    "#Count number of participants who have not answered the question\n",
    "count = df[\"Q22\"].isna().sum()\n",
    "print(count, \"participants have not answered.\")"
   ]
  },
  {
   "cell_type": "code",
   "execution_count": 174,
   "metadata": {},
   "outputs": [
    {
     "data": {
      "image/png": "[encoded data removed]",
      "text/plain": [
       "<Figure size 432x288 with 1 Axes>"
      ]
     },
     "metadata": {},
     "output_type": "display_data"
    }
   ],
   "source": [
    "sns.set_theme(style=\"whitegrid\")\n",
    "\n",
    "\n",
    "countplot = sns.countplot(data=df, y=\"Q22\", order = df['Q22'].value_counts().index)\n",
    "\n",
    "countplot.set(xlabel=\"Does your museum employ a dedicated AI engineer/machine learning specialist?\", ylabel=\"\", xlim=(0,160))\n",
    "#sns.despine(trim=True)\n",
    "\n",
    "\n",
    "plt.show()"
   ]
  },
  {
   "cell_type": "markdown",
   "metadata": {},
   "source": [
    "### Q23: Do you think there is a dissonance between the actual daily use of technology in museums and its perception by the senior leadership team (those are people who make strategic decisions in your institution)?"
   ]
  },
  {
   "cell_type": "code",
   "execution_count": 175,
   "metadata": {},
   "outputs": [
    {
     "data": {
      "text/plain": [
       "Yes, there is a dissonance                  53\n",
       "I do not know                               46\n",
       "Sometimes, depending on the application     42\n",
       "No, SLT and daily operations are aligned    19\n",
       "Name: Q23, dtype: int64"
      ]
     },
     "execution_count": 175,
     "metadata": {},
     "output_type": "execute_result"
    }
   ],
   "source": [
    "#Q23 count answers and sort descending\n",
    "df['Q23'].value_counts(sort=True)"
   ]
  },
  {
   "cell_type": "code",
   "execution_count": 176,
   "metadata": {},
   "outputs": [
    {
     "name": "stdout",
     "output_type": "stream",
     "text": [
      "106 participants have not answered.\n"
     ]
    }
   ],
   "source": [
    "#Count number of participants who have not answered the question\n",
    "count = df[\"Q23\"].isna().sum()\n",
    "print(count, \"participants have not answered.\")"
   ]
  },
  {
   "cell_type": "code",
   "execution_count": 177,
   "metadata": {},
   "outputs": [
    {
     "data": {
      "image/png": "[encoded data removed]",
      "text/plain": [
       "<Figure size 432x288 with 1 Axes>"
      ]
     },
     "metadata": {},
     "output_type": "display_data"
    }
   ],
   "source": [
    "sns.set_theme(style=\"whitegrid\")\n",
    "\n",
    "\n",
    "countplot = sns.countplot(data=df, y=\"Q23\", order = df['Q23'].value_counts().index)\n",
    "\n",
    "countplot.set(xlabel=\"Dissonance between the actual daily use of technology and perception by the senior leadership team?\", ylabel=\"\", xlim=(0,60))\n",
    "#sns.despine(trim=True)\n",
    "\n",
    "\n",
    "plt.show()"
   ]
  },
  {
   "cell_type": "markdown",
   "metadata": {},
   "source": [
    "### Q24: In your own words, what kind of tasks in museums can be supported by AI in the future?"
   ]
  },
  {
   "cell_type": "markdown",
   "metadata": {},
   "source": [
    "**Free text answers:** improvement of the visitors' experience but also possibly improvement of collection inventory; serving audiences, storing information, coordination of technical issues; better access to collections - improved discoverability would support creative and research uses; by the current pandemic cituation will change some conventional practices such group guidance. therefore personel guidance which is provided by smart phones or dedicaten utilites and well-engineered virtual museums shall be the focal point future museums; work with visitors (educational and inclusive projects, guided tours). collection management, curating of exhibitions; visitor counting, image pattern recognition, text prediction; collection discovery and access; in terms of collection classification, analysis, and study i think there are a lot of opportunities to provide a base level of data/visual analysis to be considered alongside more traditional approaches; tasks to improve interaction with visitors; interconnecting different data sources, augmenting data (entity recognition etc.), providing richer interfaces through data integration and mapping, (semi-)automating cataloguing / indexing of objects; greater access to collections; dont see the relevance at present; i have absolutely no idea! we are a very small museum, and ai is not a subject i am proficient in; sentiment analysis for visitor comments. analysis of visitor movement around spaces. chatbots online. exhibitions reaearch; image recognition, taxanomic equivalence analysis, trend analysis and predictive modelling of building/ conservation/ energy/ collections/ online visitor data; very little, museums require human interaction, empathy, emotion and knowledge that requires intuitive context. i don't believe that can be achieved by ai; suggesting content that may be of interest based on previous searches (including images searched, as well as text); exhibits, storing data etc.; collection database, visitor services, address database, website search, social media; presentation, indexing; besides enhancing the visitor journey and experience, it could be more used within visitor data analysis and ticketing; games especially, digitalisation and alternate user experiences; visitor analysis;display enhancement/interaction; ai can help in the documentation and also in the creation of virtual exhibitions; bringing objects to live to share information about the object whilst viewing the object and a more layered representation of our audiences and how they have changed over time; metadata improvement and metadata enhancement, linking collections, analysing visitor data, monitoring and improving energy use in the building and of storage systems. the list can go on :); visitor engagement, relevance in terms of education and mitigate social conflict; data collection etc - we are all volunteers in our small museum and ai is a long way along for us; all museum management: from collections data to public interests and needs; to enhance children interest; it seems very farfetched from my standpoint to do any such suggestions since my institution doesnt use modern technology at all; automation of describing museum objects (and information retrieval more generally), prognosing the condition and needs of an object, curating, help with selection of the digitally born museum objects (etc, i think there are many opportunities); collections management, visitor engagement,  museum management; a searching tool of specimens, like museum's data archives; outreach, collection management, conservation records, movement of items; i think ai technology can be supported for most of museums in near future; registration of  the museum collection; adapting tour content for the visitor, helping to analyze similar items in collections; guide for visitors; nothing; you tell me; answer questions about objects from visitors / tell object stories and learn to adapt the stories following staff or visitor intervention / accessibility options - audio descriptions? bsl interpretation?; collections management and description; integration of museum collections and non-museum collections; search capabilities (including multilingual and transmedia); visitor experience, auto-creating metadata from digitised objects; customer service queries; really couldn't say. one part time member of staff trying to meet the day-to-day tasks and requests, so ai has never been a consideration; enrichment of collections for search, exploration, and discovery; integration into a national collections database; I do not know - my knowledge in this area is awful; not sure; supporting further access to museum collections not currently on display.  puttin the museum experience in competition with other virtual/online experiences. ensuring we are offering the best experience to our visitors. further opportunity for engagement and interpreting collections; smart search, keyword networks; i do not know; generating user/customer insights from our data to improve our offer both on-site and online (assist with planning & decision making in the short - mid term), help us generate insights to drive our longer term strategic direction/focus; potential to help enhance our on-site visitor experience; in my department, image tagging and searchability; i do not know; pretty much every aspect of museum work could benefit from ai; image identification/ cataloguing, documents research, better interpretation, wider access; data management, interpretation, visitor engagement; i actually have no idea; precise marketing, location services, general information and curation info; do not know enough about it; interpretation and engagement; searches for quick access to information that has been previously provided by a human; visitor engagement, collections access; interpretation, research, data analysis, exhibitions, marketing etc; better ocr, indexing and crss referencing of registers, publications, field notebooks, etc; collections management, interactive exhibits, data analysis, research with other organisations; dynamically presented content based on user input (put in a knowledge interest, heritage, favorite and get recommendations on a personalized experience); museum education, documentation, public relation; visitor experience, education, engagement work. metadata enhancement with museum collections has proven too difficult/diverse for classification models to scale or prove useful; widening access to collections data; transcription, translation, datamining; showing how machines worked that no longer work; our collections will be more valuable to researchers; spatial analysis of biological collections for determining species range changes due to environmental changes; unsure; exhibitions and objects could be 'brought to life'; this v much depends on (a) what you mean by ai, (b) who is developing the technology, (c) understanding the ethics of ai and the algorithms used; to make an impression to visitors; collect statistics, prepare annual reports, perform work that does not require creativity; all sorts, from visitor experience to collections management; data input, indexing, making connections between disparate areas; observing the footfall of guests, monitering how they interact with exhibits, organising collections into a usable searchable useful system; in my eyes museum are asked to be more democratic and bring audiences that do not see museums as cultural destinations. there for there is a need to create routes and games for these target groups . ai should support these trails; certain collections management tasks; there is a difference between could and should. many \"coulds\", but at the moment I want to see good, unbiased, helpful results first. until then: humans!; i do not think AI can support any museum tasks in future; data wrangling as well as engagement; creating connections between objects, people and places that might not be spotted by humans; virtual tours, answering simple queries; no idea; data mapping/connecting; educational engagement; collections management, interpretation, public engagement, public programming; no idea; regulation of humidity, temperature in exhibition spaces, marketing and promotion activities; grouping of audiences and visitors, content provision, collection management, attendance prediction, usage prediction, interaction with objects; sharing objects,presenting them in different ways; collections and archive access and interoperability; learning about user preferences to better serve visitors; making links between objects, helping with enquiries; i think visitor analysis/prediction and tidying or maintaining records will become standard practice; ai is tricky relative to privacy. it also, in present applications, seems to make assumptions about users' interests. when doing research in history museums, it would be hard to justify that forced direction compared to individual discovery. there are pluses and minuses to both. perhaps that's part of the ai development today; not sure; customized tours, traffic flow analysis, restoration, energy savings; audience datas, technology for animations; i think i'm not even aware of all the possibilities; conservation of artifacts"
   ]
  },
  {
   "cell_type": "code",
   "execution_count": 178,
   "metadata": {},
   "outputs": [
    {
     "name": "stdout",
     "output_type": "stream",
     "text": [
      "157 participants have not answered.\n"
     ]
    }
   ],
   "source": [
    "#Count number of participants who have not answered the question\n",
    "count = df[\"Q24\"].isna().sum()\n",
    "print(count, \"participants have not answered.\")"
   ]
  },
  {
   "cell_type": "markdown",
   "metadata": {},
   "source": [
    "### Q25: Please indicate below - ranging from 'not at all' to 'very much' - if in your view AI technologies are generally negatively impacted by:"
   ]
  },
  {
   "cell_type": "code",
   "execution_count": 179,
   "metadata": {},
   "outputs": [
    {
     "data": {
      "text/html": [
       "<div>\n",
       "<style scoped>\n",
       "    .dataframe tbody tr th:only-of-type {\n",
       "        vertical-align: middle;\n",
       "    }\n",
       "\n",
       "    .dataframe tbody tr th {\n",
       "        vertical-align: top;\n",
       "    }\n",
       "\n",
       "    .dataframe thead th {\n",
       "        text-align: right;\n",
       "    }\n",
       "</style>\n",
       "<table border=\"1\" class=\"dataframe\">\n",
       "  <thead>\n",
       "    <tr style=\"text-align: right;\">\n",
       "      <th></th>\n",
       "      <th>Q25_1</th>\n",
       "      <th>Q25_2</th>\n",
       "      <th>Q25_3</th>\n",
       "      <th>Q25_4</th>\n",
       "      <th>Q25_5</th>\n",
       "      <th>Q25_6</th>\n",
       "      <th>Q25_7</th>\n",
       "    </tr>\n",
       "  </thead>\n",
       "  <tbody>\n",
       "    <tr>\n",
       "      <th>0</th>\n",
       "      <td>0.0</td>\n",
       "      <td>1.0</td>\n",
       "      <td>0.0</td>\n",
       "      <td>3.0</td>\n",
       "      <td>0.0</td>\n",
       "      <td>3.0</td>\n",
       "      <td>0.0</td>\n",
       "    </tr>\n",
       "    <tr>\n",
       "      <th>1</th>\n",
       "      <td>2.0</td>\n",
       "      <td>3.0</td>\n",
       "      <td>2.0</td>\n",
       "      <td>4.0</td>\n",
       "      <td>2.0</td>\n",
       "      <td>4.0</td>\n",
       "      <td>NaN</td>\n",
       "    </tr>\n",
       "    <tr>\n",
       "      <th>2</th>\n",
       "      <td>NaN</td>\n",
       "      <td>NaN</td>\n",
       "      <td>NaN</td>\n",
       "      <td>NaN</td>\n",
       "      <td>NaN</td>\n",
       "      <td>NaN</td>\n",
       "      <td>NaN</td>\n",
       "    </tr>\n",
       "    <tr>\n",
       "      <th>3</th>\n",
       "      <td>4.0</td>\n",
       "      <td>3.0</td>\n",
       "      <td>2.0</td>\n",
       "      <td>3.0</td>\n",
       "      <td>3.0</td>\n",
       "      <td>3.0</td>\n",
       "      <td>NaN</td>\n",
       "    </tr>\n",
       "    <tr>\n",
       "      <th>4</th>\n",
       "      <td>4.0</td>\n",
       "      <td>4.0</td>\n",
       "      <td>0.0</td>\n",
       "      <td>3.0</td>\n",
       "      <td>3.0</td>\n",
       "      <td>2.0</td>\n",
       "      <td>NaN</td>\n",
       "    </tr>\n",
       "  </tbody>\n",
       "</table>\n",
       "</div>"
      ],
      "text/plain": [
       "   Q25_1  Q25_2  Q25_3  Q25_4  Q25_5  Q25_6  Q25_7\n",
       "0    0.0    1.0    0.0    3.0    0.0    3.0    0.0\n",
       "1    2.0    3.0    2.0    4.0    2.0    4.0    NaN\n",
       "2    NaN    NaN    NaN    NaN    NaN    NaN    NaN\n",
       "3    4.0    3.0    2.0    3.0    3.0    3.0    NaN\n",
       "4    4.0    4.0    0.0    3.0    3.0    2.0    NaN"
      ]
     },
     "execution_count": 179,
     "metadata": {},
     "output_type": "execute_result"
    }
   ],
   "source": [
    "#Q25 plot trial\n",
    "df[['Q25_1','Q25_2','Q25_3','Q25_4','Q25_5','Q25_6', 'Q25_7']].head()"
   ]
  },
  {
   "cell_type": "code",
   "execution_count": 180,
   "metadata": {},
   "outputs": [
    {
     "data": {
      "text/html": [
       "<div>\n",
       "<style scoped>\n",
       "    .dataframe tbody tr th:only-of-type {\n",
       "        vertical-align: middle;\n",
       "    }\n",
       "\n",
       "    .dataframe tbody tr th {\n",
       "        vertical-align: top;\n",
       "    }\n",
       "\n",
       "    .dataframe thead th {\n",
       "        text-align: right;\n",
       "    }\n",
       "</style>\n",
       "<table border=\"1\" class=\"dataframe\">\n",
       "  <thead>\n",
       "    <tr style=\"text-align: right;\">\n",
       "      <th></th>\n",
       "      <th>ResponseId</th>\n",
       "      <th>Q25</th>\n",
       "      <th>scores</th>\n",
       "    </tr>\n",
       "  </thead>\n",
       "  <tbody>\n",
       "    <tr>\n",
       "      <th>0</th>\n",
       "      <td>R_3gZ7aApg5ysFqf8</td>\n",
       "      <td>Q25_1</td>\n",
       "      <td>0.0</td>\n",
       "    </tr>\n",
       "    <tr>\n",
       "      <th>1</th>\n",
       "      <td>R_Us8dd0u8MtesCHf</td>\n",
       "      <td>Q25_1</td>\n",
       "      <td>2.0</td>\n",
       "    </tr>\n",
       "    <tr>\n",
       "      <th>2</th>\n",
       "      <td>R_12EIR7qN1jaSgpl</td>\n",
       "      <td>Q25_1</td>\n",
       "      <td>NaN</td>\n",
       "    </tr>\n",
       "    <tr>\n",
       "      <th>3</th>\n",
       "      <td>R_8zVbFGd4kxIMw7v</td>\n",
       "      <td>Q25_1</td>\n",
       "      <td>4.0</td>\n",
       "    </tr>\n",
       "    <tr>\n",
       "      <th>4</th>\n",
       "      <td>R_3iy6fcVREMEHWMo</td>\n",
       "      <td>Q25_1</td>\n",
       "      <td>4.0</td>\n",
       "    </tr>\n",
       "    <tr>\n",
       "      <th>...</th>\n",
       "      <td>...</td>\n",
       "      <td>...</td>\n",
       "      <td>...</td>\n",
       "    </tr>\n",
       "    <tr>\n",
       "      <th>1857</th>\n",
       "      <td>R_129LylbO85n1E4O</td>\n",
       "      <td>Q25_7</td>\n",
       "      <td>NaN</td>\n",
       "    </tr>\n",
       "    <tr>\n",
       "      <th>1858</th>\n",
       "      <td>R_3FPuAZXjPSSeqIi</td>\n",
       "      <td>Q25_7</td>\n",
       "      <td>NaN</td>\n",
       "    </tr>\n",
       "    <tr>\n",
       "      <th>1859</th>\n",
       "      <td>R_27HHLVj8Pif46bc</td>\n",
       "      <td>Q25_7</td>\n",
       "      <td>NaN</td>\n",
       "    </tr>\n",
       "    <tr>\n",
       "      <th>1860</th>\n",
       "      <td>R_RUqvCt83jLEBSIV</td>\n",
       "      <td>Q25_7</td>\n",
       "      <td>NaN</td>\n",
       "    </tr>\n",
       "    <tr>\n",
       "      <th>1861</th>\n",
       "      <td>R_DehNUdoE1uoFMJj</td>\n",
       "      <td>Q25_7</td>\n",
       "      <td>NaN</td>\n",
       "    </tr>\n",
       "  </tbody>\n",
       "</table>\n",
       "<p>1862 rows × 3 columns</p>\n",
       "</div>"
      ],
      "text/plain": [
       "             ResponseId    Q25  scores\n",
       "0     R_3gZ7aApg5ysFqf8  Q25_1     0.0\n",
       "1     R_Us8dd0u8MtesCHf  Q25_1     2.0\n",
       "2     R_12EIR7qN1jaSgpl  Q25_1     NaN\n",
       "3     R_8zVbFGd4kxIMw7v  Q25_1     4.0\n",
       "4     R_3iy6fcVREMEHWMo  Q25_1     4.0\n",
       "...                 ...    ...     ...\n",
       "1857  R_129LylbO85n1E4O  Q25_7     NaN\n",
       "1858  R_3FPuAZXjPSSeqIi  Q25_7     NaN\n",
       "1859  R_27HHLVj8Pif46bc  Q25_7     NaN\n",
       "1860  R_RUqvCt83jLEBSIV  Q25_7     NaN\n",
       "1861  R_DehNUdoE1uoFMJj  Q25_7     NaN\n",
       "\n",
       "[1862 rows x 3 columns]"
      ]
     },
     "execution_count": 180,
     "metadata": {},
     "output_type": "execute_result"
    }
   ],
   "source": [
    "#Fit all answer columns related to Q25 into one column\n",
    "q25_melt = pd.melt(df, id_vars=['ResponseId'], value_vars=['Q25_1','Q25_2','Q25_3','Q25_4','Q25_5','Q25_6', 'Q25_7'], var_name='Q25', value_name='scores')\n",
    "\n",
    "q25_melt"
   ]
  },
  {
   "cell_type": "code",
   "execution_count": 181,
   "metadata": {},
   "outputs": [
    {
     "data": {
      "image/png": "[encoded data removed]",
      "text/plain": [
       "<Figure size 360x360 with 1 Axes>"
      ]
     },
     "metadata": {},
     "output_type": "display_data"
    }
   ],
   "source": [
    "#plot the melt column with counted answers and legend representing the impact factor\n",
    "p = sns.catplot(y='Q25', hue='scores', kind='count', data=q25_melt, legend=False)\n",
    "p.set_yticklabels(['Bias', 'Lack of', 'Society', 'Costs', 'Environment', 'Education', 'Other'])\n",
    "plt.legend(title='Impact', labels=['Not at all', 'Minor', 'Modest', 'Noticeable', 'Very high'], bbox_to_anchor=(1.00,0.67))\n",
    "plt.title(\"Negative impacts on AI technologies \", fontsize=14)\n",
    "plt.show()"
   ]
  },
  {
   "cell_type": "markdown",
   "metadata": {},
   "source": [
    "### Q26: How much impact do the below variables have on the uptake of AI applications in museums?"
   ]
  },
  {
   "cell_type": "code",
   "execution_count": 182,
   "metadata": {},
   "outputs": [
    {
     "data": {
      "text/html": [
       "<div>\n",
       "<style scoped>\n",
       "    .dataframe tbody tr th:only-of-type {\n",
       "        vertical-align: middle;\n",
       "    }\n",
       "\n",
       "    .dataframe tbody tr th {\n",
       "        vertical-align: top;\n",
       "    }\n",
       "\n",
       "    .dataframe thead th {\n",
       "        text-align: right;\n",
       "    }\n",
       "</style>\n",
       "<table border=\"1\" class=\"dataframe\">\n",
       "  <thead>\n",
       "    <tr style=\"text-align: right;\">\n",
       "      <th></th>\n",
       "      <th>Q26_1</th>\n",
       "      <th>Q26_2</th>\n",
       "      <th>Q26_3</th>\n",
       "      <th>Q26_4</th>\n",
       "      <th>Q26_5</th>\n",
       "      <th>Q26_6</th>\n",
       "      <th>Q26_7</th>\n",
       "      <th>Q26_8</th>\n",
       "      <th>Q26_9</th>\n",
       "    </tr>\n",
       "  </thead>\n",
       "  <tbody>\n",
       "    <tr>\n",
       "      <th>0</th>\n",
       "      <td>3.0</td>\n",
       "      <td>3.0</td>\n",
       "      <td>3.0</td>\n",
       "      <td>3.0</td>\n",
       "      <td>3.0</td>\n",
       "      <td>0.0</td>\n",
       "      <td>0.0</td>\n",
       "      <td>3.0</td>\n",
       "      <td>0.0</td>\n",
       "    </tr>\n",
       "    <tr>\n",
       "      <th>1</th>\n",
       "      <td>4.0</td>\n",
       "      <td>4.0</td>\n",
       "      <td>3.0</td>\n",
       "      <td>2.0</td>\n",
       "      <td>3.0</td>\n",
       "      <td>2.0</td>\n",
       "      <td>1.0</td>\n",
       "      <td>3.0</td>\n",
       "      <td>NaN</td>\n",
       "    </tr>\n",
       "    <tr>\n",
       "      <th>2</th>\n",
       "      <td>NaN</td>\n",
       "      <td>NaN</td>\n",
       "      <td>NaN</td>\n",
       "      <td>NaN</td>\n",
       "      <td>NaN</td>\n",
       "      <td>NaN</td>\n",
       "      <td>NaN</td>\n",
       "      <td>NaN</td>\n",
       "      <td>NaN</td>\n",
       "    </tr>\n",
       "    <tr>\n",
       "      <th>3</th>\n",
       "      <td>4.0</td>\n",
       "      <td>4.0</td>\n",
       "      <td>3.0</td>\n",
       "      <td>3.0</td>\n",
       "      <td>NaN</td>\n",
       "      <td>NaN</td>\n",
       "      <td>NaN</td>\n",
       "      <td>1.0</td>\n",
       "      <td>NaN</td>\n",
       "    </tr>\n",
       "    <tr>\n",
       "      <th>4</th>\n",
       "      <td>4.0</td>\n",
       "      <td>4.0</td>\n",
       "      <td>4.0</td>\n",
       "      <td>4.0</td>\n",
       "      <td>2.0</td>\n",
       "      <td>NaN</td>\n",
       "      <td>0.0</td>\n",
       "      <td>0.0</td>\n",
       "      <td>NaN</td>\n",
       "    </tr>\n",
       "  </tbody>\n",
       "</table>\n",
       "</div>"
      ],
      "text/plain": [
       "   Q26_1  Q26_2  Q26_3  Q26_4  Q26_5  Q26_6  Q26_7  Q26_8  Q26_9\n",
       "0    3.0    3.0    3.0    3.0    3.0    0.0    0.0    3.0    0.0\n",
       "1    4.0    4.0    3.0    2.0    3.0    2.0    1.0    3.0    NaN\n",
       "2    NaN    NaN    NaN    NaN    NaN    NaN    NaN    NaN    NaN\n",
       "3    4.0    4.0    3.0    3.0    NaN    NaN    NaN    1.0    NaN\n",
       "4    4.0    4.0    4.0    4.0    2.0    NaN    0.0    0.0    NaN"
      ]
     },
     "execution_count": 182,
     "metadata": {},
     "output_type": "execute_result"
    }
   ],
   "source": [
    "#Q26 plot trial\n",
    "df[['Q26_1','Q26_2','Q26_3','Q26_4','Q26_5','Q26_6', 'Q26_7', 'Q26_8', 'Q26_9']].head()"
   ]
  },
  {
   "cell_type": "code",
   "execution_count": 183,
   "metadata": {},
   "outputs": [
    {
     "data": {
      "text/html": [
       "<div>\n",
       "<style scoped>\n",
       "    .dataframe tbody tr th:only-of-type {\n",
       "        vertical-align: middle;\n",
       "    }\n",
       "\n",
       "    .dataframe tbody tr th {\n",
       "        vertical-align: top;\n",
       "    }\n",
       "\n",
       "    .dataframe thead th {\n",
       "        text-align: right;\n",
       "    }\n",
       "</style>\n",
       "<table border=\"1\" class=\"dataframe\">\n",
       "  <thead>\n",
       "    <tr style=\"text-align: right;\">\n",
       "      <th></th>\n",
       "      <th>ResponseId</th>\n",
       "      <th>Q26</th>\n",
       "      <th>scores</th>\n",
       "    </tr>\n",
       "  </thead>\n",
       "  <tbody>\n",
       "    <tr>\n",
       "      <th>0</th>\n",
       "      <td>R_3gZ7aApg5ysFqf8</td>\n",
       "      <td>Q26_1</td>\n",
       "      <td>3.0</td>\n",
       "    </tr>\n",
       "    <tr>\n",
       "      <th>1</th>\n",
       "      <td>R_Us8dd0u8MtesCHf</td>\n",
       "      <td>Q26_1</td>\n",
       "      <td>4.0</td>\n",
       "    </tr>\n",
       "    <tr>\n",
       "      <th>2</th>\n",
       "      <td>R_12EIR7qN1jaSgpl</td>\n",
       "      <td>Q26_1</td>\n",
       "      <td>NaN</td>\n",
       "    </tr>\n",
       "    <tr>\n",
       "      <th>3</th>\n",
       "      <td>R_8zVbFGd4kxIMw7v</td>\n",
       "      <td>Q26_1</td>\n",
       "      <td>4.0</td>\n",
       "    </tr>\n",
       "    <tr>\n",
       "      <th>4</th>\n",
       "      <td>R_3iy6fcVREMEHWMo</td>\n",
       "      <td>Q26_1</td>\n",
       "      <td>4.0</td>\n",
       "    </tr>\n",
       "    <tr>\n",
       "      <th>...</th>\n",
       "      <td>...</td>\n",
       "      <td>...</td>\n",
       "      <td>...</td>\n",
       "    </tr>\n",
       "    <tr>\n",
       "      <th>2389</th>\n",
       "      <td>R_129LylbO85n1E4O</td>\n",
       "      <td>Q26_9</td>\n",
       "      <td>NaN</td>\n",
       "    </tr>\n",
       "    <tr>\n",
       "      <th>2390</th>\n",
       "      <td>R_3FPuAZXjPSSeqIi</td>\n",
       "      <td>Q26_9</td>\n",
       "      <td>NaN</td>\n",
       "    </tr>\n",
       "    <tr>\n",
       "      <th>2391</th>\n",
       "      <td>R_27HHLVj8Pif46bc</td>\n",
       "      <td>Q26_9</td>\n",
       "      <td>NaN</td>\n",
       "    </tr>\n",
       "    <tr>\n",
       "      <th>2392</th>\n",
       "      <td>R_RUqvCt83jLEBSIV</td>\n",
       "      <td>Q26_9</td>\n",
       "      <td>NaN</td>\n",
       "    </tr>\n",
       "    <tr>\n",
       "      <th>2393</th>\n",
       "      <td>R_DehNUdoE1uoFMJj</td>\n",
       "      <td>Q26_9</td>\n",
       "      <td>NaN</td>\n",
       "    </tr>\n",
       "  </tbody>\n",
       "</table>\n",
       "<p>2394 rows × 3 columns</p>\n",
       "</div>"
      ],
      "text/plain": [
       "             ResponseId    Q26  scores\n",
       "0     R_3gZ7aApg5ysFqf8  Q26_1     3.0\n",
       "1     R_Us8dd0u8MtesCHf  Q26_1     4.0\n",
       "2     R_12EIR7qN1jaSgpl  Q26_1     NaN\n",
       "3     R_8zVbFGd4kxIMw7v  Q26_1     4.0\n",
       "4     R_3iy6fcVREMEHWMo  Q26_1     4.0\n",
       "...                 ...    ...     ...\n",
       "2389  R_129LylbO85n1E4O  Q26_9     NaN\n",
       "2390  R_3FPuAZXjPSSeqIi  Q26_9     NaN\n",
       "2391  R_27HHLVj8Pif46bc  Q26_9     NaN\n",
       "2392  R_RUqvCt83jLEBSIV  Q26_9     NaN\n",
       "2393  R_DehNUdoE1uoFMJj  Q26_9     NaN\n",
       "\n",
       "[2394 rows x 3 columns]"
      ]
     },
     "execution_count": 183,
     "metadata": {},
     "output_type": "execute_result"
    }
   ],
   "source": [
    "#Fit all answer columns related to Q26 into one column\n",
    "q26_melt = pd.melt(df, id_vars=['ResponseId'], value_vars=['Q26_1','Q26_2','Q26_3','Q26_4','Q26_5','Q26_6', 'Q26_7', 'Q26_8', 'Q26_9'], var_name='Q26', value_name='scores')\n",
    "\n",
    "q26_melt"
   ]
  },
  {
   "cell_type": "code",
   "execution_count": 184,
   "metadata": {},
   "outputs": [
    {
     "data": {
      "image/png": "[encoded data removed]",
      "text/plain": [
       "<Figure size 360x360 with 1 Axes>"
      ]
     },
     "metadata": {},
     "output_type": "display_data"
    }
   ],
   "source": [
    "p = sns.catplot(y='Q26', hue='scores', kind='count', data=q26_melt, legend=False)\n",
    "p.set_yticklabels(['Funding', 'Skills shortage', 'Technology in museums', 'Lack of strategy', 'Lack explainable technologies', 'No need for AI', 'Society not ready', 'Organisational culture', 'Other'])\n",
    "plt.legend(title='Impact', labels=['Not at all', 'Minor', 'Modest', 'Noticeable', 'Very high'], bbox_to_anchor=(1.4,0.67))\n",
    "plt.title(\"Impacts on AI uptake\", fontsize=14)\n",
    "plt.show()"
   ]
  },
  {
   "cell_type": "markdown",
   "metadata": {},
   "source": [
    "### Q27: Which of the following would favour the uptake of AI in museums?"
   ]
  },
  {
   "cell_type": "code",
   "execution_count": 185,
   "metadata": {},
   "outputs": [
    {
     "data": {
      "text/html": [
       "<div>\n",
       "<style scoped>\n",
       "    .dataframe tbody tr th:only-of-type {\n",
       "        vertical-align: middle;\n",
       "    }\n",
       "\n",
       "    .dataframe tbody tr th {\n",
       "        vertical-align: top;\n",
       "    }\n",
       "\n",
       "    .dataframe thead th {\n",
       "        text-align: right;\n",
       "    }\n",
       "</style>\n",
       "<table border=\"1\" class=\"dataframe\">\n",
       "  <thead>\n",
       "    <tr style=\"text-align: right;\">\n",
       "      <th></th>\n",
       "      <th>Q27_1</th>\n",
       "      <th>Q27_2</th>\n",
       "      <th>Q27_3</th>\n",
       "      <th>Q27_4</th>\n",
       "      <th>Q27_5</th>\n",
       "      <th>Q27_6</th>\n",
       "    </tr>\n",
       "  </thead>\n",
       "  <tbody>\n",
       "    <tr>\n",
       "      <th>0</th>\n",
       "      <td>3.0</td>\n",
       "      <td>3.0</td>\n",
       "      <td>4.0</td>\n",
       "      <td>3.0</td>\n",
       "      <td>0.0</td>\n",
       "      <td>0.0</td>\n",
       "    </tr>\n",
       "    <tr>\n",
       "      <th>1</th>\n",
       "      <td>5.0</td>\n",
       "      <td>4.0</td>\n",
       "      <td>4.0</td>\n",
       "      <td>2.0</td>\n",
       "      <td>5.0</td>\n",
       "      <td>NaN</td>\n",
       "    </tr>\n",
       "    <tr>\n",
       "      <th>2</th>\n",
       "      <td>NaN</td>\n",
       "      <td>NaN</td>\n",
       "      <td>NaN</td>\n",
       "      <td>NaN</td>\n",
       "      <td>NaN</td>\n",
       "      <td>NaN</td>\n",
       "    </tr>\n",
       "    <tr>\n",
       "      <th>3</th>\n",
       "      <td>5.0</td>\n",
       "      <td>5.0</td>\n",
       "      <td>5.0</td>\n",
       "      <td>1.0</td>\n",
       "      <td>1.0</td>\n",
       "      <td>NaN</td>\n",
       "    </tr>\n",
       "    <tr>\n",
       "      <th>4</th>\n",
       "      <td>4.0</td>\n",
       "      <td>5.0</td>\n",
       "      <td>5.0</td>\n",
       "      <td>2.0</td>\n",
       "      <td>5.0</td>\n",
       "      <td>NaN</td>\n",
       "    </tr>\n",
       "  </tbody>\n",
       "</table>\n",
       "</div>"
      ],
      "text/plain": [
       "   Q27_1  Q27_2  Q27_3  Q27_4  Q27_5  Q27_6\n",
       "0    3.0    3.0    4.0    3.0    0.0    0.0\n",
       "1    5.0    4.0    4.0    2.0    5.0    NaN\n",
       "2    NaN    NaN    NaN    NaN    NaN    NaN\n",
       "3    5.0    5.0    5.0    1.0    1.0    NaN\n",
       "4    4.0    5.0    5.0    2.0    5.0    NaN"
      ]
     },
     "execution_count": 185,
     "metadata": {},
     "output_type": "execute_result"
    }
   ],
   "source": [
    "#Q27 plot trial\n",
    "df[['Q27_1','Q27_2','Q27_3','Q27_4','Q27_5','Q27_6']].head()"
   ]
  },
  {
   "cell_type": "code",
   "execution_count": 186,
   "metadata": {},
   "outputs": [
    {
     "data": {
      "text/html": [
       "<div>\n",
       "<style scoped>\n",
       "    .dataframe tbody tr th:only-of-type {\n",
       "        vertical-align: middle;\n",
       "    }\n",
       "\n",
       "    .dataframe tbody tr th {\n",
       "        vertical-align: top;\n",
       "    }\n",
       "\n",
       "    .dataframe thead th {\n",
       "        text-align: right;\n",
       "    }\n",
       "</style>\n",
       "<table border=\"1\" class=\"dataframe\">\n",
       "  <thead>\n",
       "    <tr style=\"text-align: right;\">\n",
       "      <th></th>\n",
       "      <th>ResponseId</th>\n",
       "      <th>Q27</th>\n",
       "      <th>scores</th>\n",
       "    </tr>\n",
       "  </thead>\n",
       "  <tbody>\n",
       "    <tr>\n",
       "      <th>0</th>\n",
       "      <td>R_3gZ7aApg5ysFqf8</td>\n",
       "      <td>Q27_1</td>\n",
       "      <td>3.0</td>\n",
       "    </tr>\n",
       "    <tr>\n",
       "      <th>1</th>\n",
       "      <td>R_Us8dd0u8MtesCHf</td>\n",
       "      <td>Q27_1</td>\n",
       "      <td>5.0</td>\n",
       "    </tr>\n",
       "    <tr>\n",
       "      <th>2</th>\n",
       "      <td>R_12EIR7qN1jaSgpl</td>\n",
       "      <td>Q27_1</td>\n",
       "      <td>NaN</td>\n",
       "    </tr>\n",
       "    <tr>\n",
       "      <th>3</th>\n",
       "      <td>R_8zVbFGd4kxIMw7v</td>\n",
       "      <td>Q27_1</td>\n",
       "      <td>5.0</td>\n",
       "    </tr>\n",
       "    <tr>\n",
       "      <th>4</th>\n",
       "      <td>R_3iy6fcVREMEHWMo</td>\n",
       "      <td>Q27_1</td>\n",
       "      <td>4.0</td>\n",
       "    </tr>\n",
       "    <tr>\n",
       "      <th>...</th>\n",
       "      <td>...</td>\n",
       "      <td>...</td>\n",
       "      <td>...</td>\n",
       "    </tr>\n",
       "    <tr>\n",
       "      <th>1591</th>\n",
       "      <td>R_129LylbO85n1E4O</td>\n",
       "      <td>Q27_6</td>\n",
       "      <td>NaN</td>\n",
       "    </tr>\n",
       "    <tr>\n",
       "      <th>1592</th>\n",
       "      <td>R_3FPuAZXjPSSeqIi</td>\n",
       "      <td>Q27_6</td>\n",
       "      <td>NaN</td>\n",
       "    </tr>\n",
       "    <tr>\n",
       "      <th>1593</th>\n",
       "      <td>R_27HHLVj8Pif46bc</td>\n",
       "      <td>Q27_6</td>\n",
       "      <td>NaN</td>\n",
       "    </tr>\n",
       "    <tr>\n",
       "      <th>1594</th>\n",
       "      <td>R_RUqvCt83jLEBSIV</td>\n",
       "      <td>Q27_6</td>\n",
       "      <td>NaN</td>\n",
       "    </tr>\n",
       "    <tr>\n",
       "      <th>1595</th>\n",
       "      <td>R_DehNUdoE1uoFMJj</td>\n",
       "      <td>Q27_6</td>\n",
       "      <td>NaN</td>\n",
       "    </tr>\n",
       "  </tbody>\n",
       "</table>\n",
       "<p>1596 rows × 3 columns</p>\n",
       "</div>"
      ],
      "text/plain": [
       "             ResponseId    Q27  scores\n",
       "0     R_3gZ7aApg5ysFqf8  Q27_1     3.0\n",
       "1     R_Us8dd0u8MtesCHf  Q27_1     5.0\n",
       "2     R_12EIR7qN1jaSgpl  Q27_1     NaN\n",
       "3     R_8zVbFGd4kxIMw7v  Q27_1     5.0\n",
       "4     R_3iy6fcVREMEHWMo  Q27_1     4.0\n",
       "...                 ...    ...     ...\n",
       "1591  R_129LylbO85n1E4O  Q27_6     NaN\n",
       "1592  R_3FPuAZXjPSSeqIi  Q27_6     NaN\n",
       "1593  R_27HHLVj8Pif46bc  Q27_6     NaN\n",
       "1594  R_RUqvCt83jLEBSIV  Q27_6     NaN\n",
       "1595  R_DehNUdoE1uoFMJj  Q27_6     NaN\n",
       "\n",
       "[1596 rows x 3 columns]"
      ]
     },
     "execution_count": 186,
     "metadata": {},
     "output_type": "execute_result"
    }
   ],
   "source": [
    "#Fit all answer columns related to Q27 into one column\n",
    "q27_melt = pd.melt(df, id_vars=['ResponseId'], value_vars=['Q27_1','Q27_2','Q27_3','Q27_4','Q27_5','Q27_6'], var_name='Q27', value_name='scores')\n",
    "\n",
    "q27_melt"
   ]
  },
  {
   "cell_type": "code",
   "execution_count": 187,
   "metadata": {},
   "outputs": [
    {
     "data": {
      "image/png": "[encoded data removed]",
      "text/plain": [
       "<Figure size 360x360 with 1 Axes>"
      ]
     },
     "metadata": {},
     "output_type": "display_data"
    }
   ],
   "source": [
    "p = sns.catplot(y='Q27', hue='scores', kind='count', data=q27_melt, legend=False)\n",
    "p.set_yticklabels(['OA software', 'Data sharing partnerships', 'Plug-and-play products', 'Data standards', 'Gov and reg bodies for heritage', 'Other'])\n",
    "plt.legend(title='Impact', labels=['Not at all', 'Minor', 'Modest', 'Noticeable', 'Major', 'Very high'], bbox_to_anchor=(1.4,0.67))\n",
    "plt.title(\"Variables that would favour AI uptake\", fontsize=14)\n",
    "plt.show()"
   ]
  },
  {
   "cell_type": "markdown",
   "metadata": {},
   "source": [
    "### Q28: Are museums suitable institutions to educate the general public about AI technologies and its ethical implications?"
   ]
  },
  {
   "cell_type": "code",
   "execution_count": 188,
   "metadata": {},
   "outputs": [
    {
     "data": {
      "text/plain": [
       "Yes              100\n",
       "I do not know     26\n",
       "No                16\n",
       "Name: Q28, dtype: int64"
      ]
     },
     "execution_count": 188,
     "metadata": {},
     "output_type": "execute_result"
    }
   ],
   "source": [
    "#Q28 count answers and sort descending\n",
    "df['Q28'].value_counts(sort=True)"
   ]
  },
  {
   "cell_type": "code",
   "execution_count": 189,
   "metadata": {},
   "outputs": [
    {
     "data": {
      "image/png": "[encoded data removed]",
      "text/plain": [
       "<Figure size 432x288 with 1 Axes>"
      ]
     },
     "metadata": {},
     "output_type": "display_data"
    }
   ],
   "source": [
    "q28 = df['Q28'].value_counts(sort=True)\n",
    "\n",
    "#define data\n",
    "data = q28\n",
    "labels = ['Yes', 'I do not know', 'No']\n",
    "\n",
    "#define Seaborn color palette to use\n",
    "colors = sns.color_palette('pastel')[0:5]\n",
    "\n",
    "#create pie chart\n",
    "plt.pie(data, labels = labels, colors = colors, autopct='%.0f%%')\n",
    "plt.title(\"Museums suitable to educate general public about AI\", fontsize=14)\n",
    "plt.show()"
   ]
  },
  {
   "cell_type": "code",
   "execution_count": 190,
   "metadata": {},
   "outputs": [
    {
     "name": "stdout",
     "output_type": "stream",
     "text": [
      "124 participants have not answered.\n"
     ]
    }
   ],
   "source": [
    "#Count number of participants who have not answered the question\n",
    "count = df[\"Q28\"].isna().sum()\n",
    "print(count, \"participants have not answered.\")"
   ]
  },
  {
   "cell_type": "markdown",
   "metadata": {},
   "source": [
    "### Q29: What best describes your current job role?"
   ]
  },
  {
   "cell_type": "code",
   "execution_count": 191,
   "metadata": {},
   "outputs": [
    {
     "data": {
      "text/plain": [
       "Curatorial                            34\n",
       "Other (please describe):              29\n",
       "Leadership/strategic                  28\n",
       "Digital/technical                     26\n",
       "Research                              11\n",
       "Collection Management and Registry    11\n",
       "Conservation/Restoration               2\n",
       "Name: Q29, dtype: int64"
      ]
     },
     "execution_count": 191,
     "metadata": {},
     "output_type": "execute_result"
    }
   ],
   "source": [
    "#Q29\n",
    "q29 = df['Q29'].value_counts(sort=True)\n",
    "q29"
   ]
  },
  {
   "cell_type": "markdown",
   "metadata": {},
   "source": [
    "**Other (please describe):** supervising and control of urban excavations througout the city of istanbul; used to be exhibition project manager; communication; curator working with people, not objects; cooperation with museums; eu project leader; educator; learning and access; all of the above apart from conservation/restoration; learning and engagement; small museum (4 fte staff) so all of the above!; collections; curatorial and learning and engagement"
   ]
  },
  {
   "cell_type": "code",
   "execution_count": 192,
   "metadata": {},
   "outputs": [
    {
     "name": "stdout",
     "output_type": "stream",
     "text": [
      "125 participants have not answered.\n"
     ]
    }
   ],
   "source": [
    "#Count number of participants who have not answered the question\n",
    "count = df[\"Q29\"].isna().sum()\n",
    "print(count, \"participants have not answered.\")"
   ]
  },
  {
   "cell_type": "code",
   "execution_count": 193,
   "metadata": {},
   "outputs": [
    {
     "data": {
      "image/png": "[encoded data removed]",
      "text/plain": [
       "<Figure size 432x288 with 1 Axes>"
      ]
     },
     "metadata": {},
     "output_type": "display_data"
    }
   ],
   "source": [
    "#define data\n",
    "q29 = df['Q29'].value_counts(sort=True)\n",
    "data = q29\n",
    "labels = ['Curatorial', 'Other', 'Leadership/strategic', 'Digital/technical', 'Research', 'Collection Mgmt and Registry', 'Conservation/Restoration']\n",
    "\n",
    "#define Seaborn color palette to use\n",
    "colors = sns.color_palette('pastel')[0:7]\n",
    "\n",
    "#create pie chart\n",
    "plt.pie(data, labels = labels, colors = colors, autopct='%.0f%%')\n",
    "plt.title(\"Types of job roles\", fontsize=14)\n",
    "plt.show()"
   ]
  },
  {
   "cell_type": "markdown",
   "metadata": {},
   "source": [
    "### Q30: How long for have you been working in the museum sector?"
   ]
  },
  {
   "cell_type": "code",
   "execution_count": 194,
   "metadata": {},
   "outputs": [
    {
     "data": {
      "text/plain": [
       "> 15 years     45\n",
       "5-10 years     39\n",
       "1-4 years      29\n",
       "11-15 years    28\n",
       "Name: Q30, dtype: int64"
      ]
     },
     "execution_count": 194,
     "metadata": {},
     "output_type": "execute_result"
    }
   ],
   "source": [
    "#Q30 count answers and sort descending\n",
    "q30 = df['Q30'].value_counts(sort=True)\n",
    "q30"
   ]
  },
  {
   "cell_type": "code",
   "execution_count": 195,
   "metadata": {},
   "outputs": [
    {
     "data": {
      "image/png": "[encoded data removed]",
      "text/plain": [
       "<Figure size 432x288 with 1 Axes>"
      ]
     },
     "metadata": {},
     "output_type": "display_data"
    }
   ],
   "source": [
    "#define data\n",
    "q30 = df['Q30'].value_counts(sort=True)\n",
    "data = q30\n",
    "labels = ['> 15', '5-10', '1-4', '11-15']\n",
    "\n",
    "#define Seaborn color palette to use\n",
    "colors = sns.color_palette('pastel')[0:7]\n",
    "\n",
    "#create pie chart\n",
    "plt.pie(data, labels = labels, colors = colors, autopct='%.0f%%')\n",
    "plt.title(\"Duration of employment\", fontsize=14)\n",
    "plt.show()"
   ]
  },
  {
   "cell_type": "code",
   "execution_count": 196,
   "metadata": {},
   "outputs": [
    {
     "name": "stdout",
     "output_type": "stream",
     "text": [
      "125 participants have not answered.\n"
     ]
    }
   ],
   "source": [
    "#Count number of participants who have not answered the question\n",
    "count = df[\"Q30\"].isna().sum()\n",
    "print(count, \"participants have not answered.\")"
   ]
  },
  {
   "cell_type": "markdown",
   "metadata": {},
   "source": [
    "### Q31: In which country is the institution you are working for based? Multi-site institutions please indicate the country your main building is based at."
   ]
  },
  {
   "cell_type": "code",
   "execution_count": 197,
   "metadata": {},
   "outputs": [
    {
     "data": {
      "text/plain": [
       "United Kingdom of Great Britain and Northern Ireland    60\n",
       "United States of America                                24\n",
       "Austria                                                  7\n",
       "Japan                                                    6\n",
       "Turkey                                                   4\n",
       "Lithuania                                                3\n",
       "Italy                                                    3\n",
       "Germany                                                  3\n",
       "Estonia                                                  2\n",
       "Israel                                                   2\n",
       "Netherlands                                              2\n",
       "Ireland                                                  2\n",
       "Croatia                                                  2\n",
       "Belgium                                                  1\n",
       "Cambodia                                                 1\n",
       "Canada                                                   1\n",
       "Mexico                                                   1\n",
       "Myanmar                                                  1\n",
       "India                                                    1\n",
       "Malta                                                    1\n",
       "Montenegro                                               1\n",
       "Spain                                                    1\n",
       "Portugal                                                 1\n",
       "Australia                                                1\n",
       "Ukraine                                                  1\n",
       "Russian Federation                                       1\n",
       "France                                                   1\n",
       "Name: Q31, dtype: int64"
      ]
     },
     "execution_count": 197,
     "metadata": {},
     "output_type": "execute_result"
    }
   ],
   "source": [
    "#Q31 count answers and sort descending\n",
    "df['Q31'].value_counts(sort=True)"
   ]
  },
  {
   "cell_type": "code",
   "execution_count": 198,
   "metadata": {},
   "outputs": [
    {
     "data": {
      "image/png": "[encoded data removed]",
      "text/plain": [
       "<Figure size 432x288 with 1 Axes>"
      ]
     },
     "metadata": {},
     "output_type": "display_data"
    }
   ],
   "source": [
    "sns.set_theme(style=\"whitegrid\")\n",
    "\n",
    "\n",
    "countplot = sns.countplot(data=df, y=\"Q31\", order = df['Q31'].value_counts().index)\n",
    "\n",
    "countplot.set(xlabel=\"Do you think current databases are suitable to describe museum information and knowledge?\", ylabel=\"\", xlim=(0,70))\n",
    "plt.title(\"Countries of participants\", fontsize=14)\n",
    "\n",
    "\n",
    "\n",
    "plt.show()"
   ]
  },
  {
   "cell_type": "markdown",
   "metadata": {},
   "source": [
    "### Q32: What area is the museum you are working for located?"
   ]
  },
  {
   "cell_type": "code",
   "execution_count": 199,
   "metadata": {},
   "outputs": [
    {
     "data": {
      "text/plain": [
       "Urban                              55\n",
       "Capital city                       45\n",
       "Multi-site, but generally urban    21\n",
       "Rural                              15\n",
       "Multi-site, but generally rural     3\n",
       "Name: Q32, dtype: int64"
      ]
     },
     "execution_count": 199,
     "metadata": {},
     "output_type": "execute_result"
    }
   ],
   "source": [
    "#Q32 count answers and sort descending\n",
    "q32 = df['Q32'].value_counts(sort=True)\n",
    "q32"
   ]
  },
  {
   "cell_type": "code",
   "execution_count": 200,
   "metadata": {},
   "outputs": [
    {
     "data": {
      "image/png": "[encoded data removed]",
      "text/plain": [
       "<Figure size 432x288 with 1 Axes>"
      ]
     },
     "metadata": {},
     "output_type": "display_data"
    }
   ],
   "source": [
    "#define data\n",
    "q32 = df['Q32'].value_counts(sort=True)\n",
    "data = q32\n",
    "labels = ['Urban', 'Capital city', 'Multi-site, generally urban', 'Rural', 'Multi-site, generally rural']\n",
    "\n",
    "#define Seaborn color palette to use\n",
    "colors = sns.color_palette('pastel')[0:7]\n",
    "\n",
    "#create pie chart\n",
    "plt.pie(data, labels = labels, colors = colors, autopct='%.0f%%')\n",
    "plt.title(\"Location of museums\", fontsize=14)\n",
    "plt.show()"
   ]
  },
  {
   "cell_type": "code",
   "execution_count": 201,
   "metadata": {},
   "outputs": [
    {
     "name": "stdout",
     "output_type": "stream",
     "text": [
      "127 participants have not answered.\n"
     ]
    }
   ],
   "source": [
    "#Count number of participants who have not answered the question\n",
    "count = df[\"Q32\"].isna().sum()\n",
    "print(count, \"participants have not answered.\")"
   ]
  },
  {
   "cell_type": "markdown",
   "metadata": {},
   "source": [
    "### Q33: How many people are working for this institution?"
   ]
  },
  {
   "cell_type": "code",
   "execution_count": 202,
   "metadata": {},
   "outputs": [
    {
     "data": {
      "text/plain": [
       "6-15             27\n",
       "> 200            23\n",
       "51-100           20\n",
       "16-30            18\n",
       "31-50            17\n",
       "1-5              15\n",
       "101-200          14\n",
       "I do not know     5\n",
       "Name: Q33, dtype: int64"
      ]
     },
     "execution_count": 202,
     "metadata": {},
     "output_type": "execute_result"
    }
   ],
   "source": [
    "#Q33 count answers and sort descending\n",
    "q33 = df['Q33'].value_counts(sort=True)\n",
    "q33"
   ]
  },
  {
   "cell_type": "code",
   "execution_count": 203,
   "metadata": {},
   "outputs": [
    {
     "name": "stdout",
     "output_type": "stream",
     "text": [
      "127 participants have not answered.\n"
     ]
    }
   ],
   "source": [
    "#Count number of participants who have not answered the question\n",
    "count = df[\"Q33\"].isna().sum()\n",
    "print(count, \"participants have not answered.\")"
   ]
  },
  {
   "cell_type": "code",
   "execution_count": 204,
   "metadata": {},
   "outputs": [
    {
     "data": {
      "image/png": "[encoded data removed]",
      "text/plain": [
       "<Figure size 432x288 with 1 Axes>"
      ]
     },
     "metadata": {},
     "output_type": "display_data"
    }
   ],
   "source": [
    "#define data\n",
    "q33 = df['Q33'].value_counts(sort=True)\n",
    "data = q33\n",
    "labels = ['6-15', '> 200', '51-100', '16-30', '31-50', '1-5', '101-200', 'I do not know']\n",
    "\n",
    "#define Seaborn color palette to use\n",
    "colors = sns.color_palette('pastel')[0:8]\n",
    "\n",
    "#create pie chart\n",
    "plt.pie(data, labels = labels, colors = colors, autopct='%.0f%%')\n",
    "plt.title(\"Size of institution by employees\", fontsize=14)\n",
    "plt.show()"
   ]
  },
  {
   "cell_type": "markdown",
   "metadata": {},
   "source": [
    "### Q34: What is the approximate annual budget of the institution you are working for? (If not included below, please convert your local currency to British Pound Sterling)"
   ]
  },
  {
   "cell_type": "code",
   "execution_count": 205,
   "metadata": {},
   "outputs": [
    {
     "data": {
      "text/plain": [
       "I do not know                                                                 40\n",
       "£100 000 - £1 000 000 (€117 000 - €1 171 000; $140 000 - $1 400 000)          31\n",
       "> £5 000 000 (> €5 852 000; > $7 000 000)                                     23\n",
       "£1 000 000 - £5 000 000 (€1 171 000 - €5 852 000; $1 400 000 - $7 000 000)    18\n",
       "£26 000 - £100 000 (€35 000 - €117 000; $42 000 - $140 000)                   15\n",
       "< £25 000 (< €29 000; < $35 000)                                              10\n",
       "Name: Q34, dtype: int64"
      ]
     },
     "execution_count": 205,
     "metadata": {},
     "output_type": "execute_result"
    }
   ],
   "source": [
    "#Q34 count answers and sort descending\n",
    "q34 = df['Q34'].value_counts(sort=True)\n",
    "q34"
   ]
  },
  {
   "cell_type": "code",
   "execution_count": 206,
   "metadata": {},
   "outputs": [
    {
     "name": "stdout",
     "output_type": "stream",
     "text": [
      "129 participants have not answered.\n"
     ]
    }
   ],
   "source": [
    "#Count number of participants who have not answered the question\n",
    "count = df[\"Q34\"].isna().sum()\n",
    "print(count, \"participants have not answered.\")"
   ]
  },
  {
   "cell_type": "code",
   "execution_count": 207,
   "metadata": {},
   "outputs": [
    {
     "data": {
      "image/png": "[encoded data removed]",
      "text/plain": [
       "<Figure size 432x288 with 1 Axes>"
      ]
     },
     "metadata": {},
     "output_type": "display_data"
    }
   ],
   "source": [
    "#define data\n",
    "q34 = df['Q34'].value_counts(sort=True)\n",
    "data = q34\n",
    "labels = ['I do not know', '£100k - 1m', '> £5m', '£1m - £5m', '£26k - £100k', '< £25k']\n",
    "\n",
    "#define Seaborn color palette to use\n",
    "colors = sns.color_palette('pastel')[0:6]\n",
    "\n",
    "#create pie chart\n",
    "plt.pie(data, labels = labels, colors = colors, autopct='%.0f%%')\n",
    "plt.title(\"Size of institution by budget\", fontsize=14)\n",
    "plt.show()"
   ]
  },
  {
   "cell_type": "markdown",
   "metadata": {},
   "source": [
    "### Q35: How many visitors does your institution attract annually? (Please indicate pre-COVID numbers in case your institution was subject to a lockdown)"
   ]
  },
  {
   "cell_type": "code",
   "execution_count": 208,
   "metadata": {},
   "outputs": [
    {
     "data": {
      "text/plain": [
       "< 20 000         30\n",
       "I do not know    21\n",
       "< 50 000         21\n",
       "< 300 000        18\n",
       "< 500 000        15\n",
       "< 100 000        13\n",
       "> 1 000 000      12\n",
       "< 1 000 000       7\n",
       "Name: Q35, dtype: int64"
      ]
     },
     "execution_count": 208,
     "metadata": {},
     "output_type": "execute_result"
    }
   ],
   "source": [
    "#Q35 count answers and sort descending \n",
    "q35 = df['Q35'].value_counts(sort=True)\n",
    "q35"
   ]
  },
  {
   "cell_type": "code",
   "execution_count": 209,
   "metadata": {},
   "outputs": [
    {
     "name": "stdout",
     "output_type": "stream",
     "text": [
      "129 participants have not answered.\n"
     ]
    }
   ],
   "source": [
    "#Count number of participants who have not answered the question\n",
    "count = df[\"Q35\"].isna().sum()\n",
    "print(count, \"participants have not answered.\")"
   ]
  },
  {
   "cell_type": "code",
   "execution_count": 210,
   "metadata": {},
   "outputs": [
    {
     "data": {
      "image/png": "[encoded data removed]",
      "text/plain": [
       "<Figure size 432x288 with 1 Axes>"
      ]
     },
     "metadata": {},
     "output_type": "display_data"
    }
   ],
   "source": [
    "#define data\n",
    "q35 = df['Q35'].value_counts(sort=True)\n",
    "data = q35\n",
    "labels = ['< 20 000', 'I do not know', '< 50 000', '< 300 000', '< 500 000', '< 100 000', '> 1 000 000', '< 1 000 000']\n",
    "\n",
    "#define Seaborn color palette to use\n",
    "colors = sns.color_palette('pastel')[0:8]\n",
    "\n",
    "#create pie chart\n",
    "plt.pie(data, labels = labels, colors = colors, autopct='%.0f%%')\n",
    "plt.title(\"Visitor numbers\", fontsize=14)\n",
    "plt.show()"
   ]
  },
  {
   "cell_type": "markdown",
   "metadata": {},
   "source": [
    "### Q36: What type best describes the museum you are working for?"
   ]
  },
  {
   "cell_type": "code",
   "execution_count": 211,
   "metadata": {},
   "outputs": [
    {
     "data": {
      "text/plain": [
       "Universal (holding a significant amount of various collections; multiple exhibitions with various themes)    40\n",
       "Art                                                                                                          32\n",
       "History                                                                                                      27\n",
       "Other (please define):                                                                                       20\n",
       "Ethnography                                                                                                   6\n",
       "Science                                                                                                       6\n",
       "Natural History                                                                                               5\n",
       "Name: Q36, dtype: int64"
      ]
     },
     "execution_count": 211,
     "metadata": {},
     "output_type": "execute_result"
    }
   ],
   "source": [
    "#Q36 count answers and sort descending\n",
    "df['Q36'].value_counts(sort=True)"
   ]
  },
  {
   "cell_type": "markdown",
   "metadata": {},
   "source": [
    "**Other (please define):** "
   ]
  },
  {
   "cell_type": "code",
   "execution_count": 212,
   "metadata": {},
   "outputs": [
    {
     "data": {
      "text/plain": [
       "Archaeology                        4\n",
       "I work for multiple museums        2\n",
       "Monetary and Economic History      1\n",
       "Archeaology and Etnography         1\n",
       "Multidisciplinary                  1\n",
       "Medical                            1\n",
       "Applied Arts/Design                1\n",
       "Transport                          1\n",
       "Culture                            1\n",
       "Maritime and Industrial            1\n",
       "We are agency for museum sector    1\n",
       "Local Authority                    1\n",
       "Geology                            1\n",
       "not a museum                       1\n",
       "Botanical Garden                   1\n",
       "Name: Q36_7_TEXT, dtype: int64"
      ]
     },
     "execution_count": 212,
     "metadata": {},
     "output_type": "execute_result"
    }
   ],
   "source": [
    "df['Q36_7_TEXT'].value_counts(sort=True)"
   ]
  },
  {
   "cell_type": "code",
   "execution_count": 213,
   "metadata": {},
   "outputs": [
    {
     "name": "stdout",
     "output_type": "stream",
     "text": [
      "130 participants have not answered.\n"
     ]
    }
   ],
   "source": [
    "#Count number of participants who have not answered the question\n",
    "count = df[\"Q36\"].isna().sum()\n",
    "print(count, \"participants have not answered.\")"
   ]
  },
  {
   "cell_type": "code",
   "execution_count": 214,
   "metadata": {},
   "outputs": [
    {
     "data": {
      "image/png": "[encoded data removed]",
      "text/plain": [
       "<Figure size 432x288 with 1 Axes>"
      ]
     },
     "metadata": {},
     "output_type": "display_data"
    }
   ],
   "source": [
    "sns.set_theme(style=\"whitegrid\")\n",
    "\n",
    "\n",
    "countplot = sns.countplot(data=df, y=\"Q36\", order = df['Q36'].value_counts().index)\n",
    "\n",
    "countplot.set(xlabel=\"What type best describes the museum you are working at?\", ylabel=\"\", xlim=(0,50))\n",
    "#sns.despine(trim=True)\n",
    "\n",
    "\n",
    "plt.show()"
   ]
  },
  {
   "cell_type": "markdown",
   "metadata": {},
   "source": [
    "### Usage of AI according to budget of institution:"
   ]
  },
  {
   "cell_type": "code",
   "execution_count": 215,
   "metadata": {},
   "outputs": [
    {
     "name": "stderr",
     "output_type": "stream",
     "text": [
      "/opt/anaconda3/envs/maia-analysis/lib/python3.9/site-packages/seaborn/axisgrid.py:88: UserWarning: Tight layout not applied. The left and right margins cannot be made large enough to accommodate all axes decorations.\n",
      "  self._figure.tight_layout(*args, **kwargs)\n"
     ]
    },
    {
     "data": {
      "image/png": "[encoded data removed]",
      "text/plain": [
       "<Figure size 585.475x360 with 1 Axes>"
      ]
     },
     "metadata": {},
     "output_type": "display_data"
    }
   ],
   "source": [
    "p = sns.catplot(y='Q34', hue='Q3', kind='count', data=df, legend=True)"
   ]
  },
  {
   "cell_type": "code",
   "execution_count": null,
   "metadata": {},
   "outputs": [],
   "source": []
  }
 ],
 "metadata": {
  "kernelspec": {
   "display_name": "maia-analyis",
   "language": "python",
   "name": "maia-analyis"
  },
  "language_info": {
   "codemirror_mode": {
    "name": "ipython",
    "version": 3
   },
   "file_extension": ".py",
   "mimetype": "text/x-python",
   "name": "python",
   "nbconvert_exporter": "python",
   "pygments_lexer": "ipython3",
   "version": "3.9.7"
  }
 },
 "nbformat": 4,
 "nbformat_minor": 4
}
